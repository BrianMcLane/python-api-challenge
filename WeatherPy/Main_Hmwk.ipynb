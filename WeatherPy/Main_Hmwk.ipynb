{
 "cells": [
  {
   "cell_type": "markdown",
   "metadata": {},
   "source": [
    "# WeatherPy\n",
    "----\n",
    "\n",
    "#### Note\n",
    "* Instructions have been included for each segment. You do not have to follow them exactly, but they are included to help you think through the steps."
   ]
  },
  {
   "cell_type": "code",
   "execution_count": 2,
   "metadata": {
    "scrolled": true
   },
   "outputs": [],
   "source": [
    "# Dependencies and Setup\n",
    "import matplotlib.pyplot as plt\n",
    "import pandas as pd\n",
    "import numpy as np\n",
    "import requests\n",
    "import time\n",
    "from scipy.stats import linregress\n",
    "import scipy.stats as sts\n",
    "\n",
    "# Import API key\n",
    "from api_keys import weather_api_key as api_key\n",
    "\n",
    "# Incorporated citipy to determine city based on latitude and longitude\n",
    "from citipy import citipy\n",
    "\n",
    "# Output File (CSV)\n",
    "output_data_file = \"output_data/cities.csv\"\n",
    "\n",
    "# Range of latitudes and longitudes\n",
    "lat_range = (-90, 90)\n",
    "lng_range = (-180, 180)"
   ]
  },
  {
   "cell_type": "markdown",
   "metadata": {},
   "source": [
    "## Generate Cities List"
   ]
  },
  {
   "cell_type": "code",
   "execution_count": 3,
   "metadata": {},
   "outputs": [
    {
     "data": {
      "text/plain": [
       "621"
      ]
     },
     "execution_count": 3,
     "metadata": {},
     "output_type": "execute_result"
    }
   ],
   "source": [
    "# List for holding lat_lngs and cities\n",
    "lat_lngs = []\n",
    "cities = []\n",
    "\n",
    "# Create a set of random lat and lng combinations\n",
    "lats = np.random.uniform(lat_range[0], lat_range[1], size=1500)\n",
    "lngs = np.random.uniform(lng_range[0], lng_range[1], size=1500)\n",
    "lat_lngs = zip(lats, lngs)\n",
    "\n",
    "# Identify nearest city for each lat, lng combination\n",
    "for lat_lng in lat_lngs:\n",
    "    city = citipy.nearest_city(lat_lng[0], lat_lng[1]).city_name\n",
    "    \n",
    "    # If the city is unique, then add it to a our cities list\n",
    "    if city not in cities:\n",
    "        cities.append(city)\n",
    "\n",
    "# Print the city count to confirm sufficient count\n",
    "len(cities)\n",
    "# print(cities[0:5])"
   ]
  },
  {
   "cell_type": "markdown",
   "metadata": {},
   "source": [
    "### Perform API Calls\n",
    "* Perform a weather check on each city using a series of successive API calls.\n",
    "* Include a print log of each city as it's being processed (with the city number and city name).\n"
   ]
  },
  {
   "cell_type": "code",
   "execution_count": null,
   "metadata": {},
   "outputs": [],
   "source": []
  },
  {
   "cell_type": "code",
   "execution_count": null,
   "metadata": {},
   "outputs": [],
   "source": []
  },
  {
   "cell_type": "code",
   "execution_count": 4,
   "metadata": {},
   "outputs": [],
   "source": [
    "import time "
   ]
  },
  {
   "cell_type": "code",
   "execution_count": 5,
   "metadata": {
    "scrolled": true
   },
   "outputs": [
    {
     "name": "stdout",
     "output_type": "stream",
     "text": [
      "Beginning data retrieval        \n",
      "--------------------------------\n",
      "Processing Record 1 of Set 1 | fomboni\n",
      "Processing Record 2 of Set 1 | cape town\n",
      "Processing Record 3 of Set 1 | turtas\n",
      "Processing Record 4 of Set 1 | aksarka\n",
      "Processing Record 5 of Set 1 | cherskiy\n",
      "Processing Record 6 of Set 1 | russell\n",
      "Processing Record 7 of Set 1 | vaini\n",
      "Processing Record 8 of Set 1 | talnakh\n",
      "Processing Record 9 of Set 1 | hobart\n",
      "Processing Record 10 of Set 1 | vangaindrano\n",
      "Processing Record 11 of Set 1 | bengkulu\n",
      "Processing Record 12 of Set 1 | esperance\n",
      "Processing Record 13 of Set 1 | vaitupu\n",
      "City Not Found. Skipping......\n",
      "Processing Record 14 of Set 1 | avarua\n",
      "Processing Record 15 of Set 1 | castro\n",
      "Processing Record 16 of Set 1 | butaritari\n",
      "Processing Record 17 of Set 1 | jamestown\n",
      "Processing Record 18 of Set 1 | madang\n",
      "Processing Record 19 of Set 1 | hermanus\n",
      "Processing Record 20 of Set 1 | nizwa\n",
      "Processing Record 21 of Set 1 | tiksi\n",
      "Processing Record 22 of Set 1 | mataura\n",
      "Processing Record 23 of Set 1 | khatanga\n",
      "Processing Record 24 of Set 1 | taltal\n",
      "Processing Record 25 of Set 1 | lubango\n",
      "Processing Record 26 of Set 1 | taolanaro\n",
      "City Not Found. Skipping......\n",
      "Processing Record 27 of Set 1 | okhotsk\n",
      "Processing Record 28 of Set 1 | bredasdorp\n",
      "Processing Record 29 of Set 1 | saleaula\n",
      "City Not Found. Skipping......\n",
      "Processing Record 30 of Set 1 | bilibino\n",
      "Processing Record 31 of Set 1 | quesnel\n",
      "Processing Record 32 of Set 1 | saint-philippe\n",
      "Processing Record 33 of Set 1 | atuona\n",
      "Processing Record 34 of Set 1 | bethel\n",
      "Processing Record 35 of Set 1 | hasaki\n",
      "Processing Record 36 of Set 1 | belaya gora\n",
      "Processing Record 37 of Set 1 | kaitangata\n",
      "Processing Record 38 of Set 1 | tahoua\n",
      "Processing Record 39 of Set 1 | mar del plata\n",
      "Processing Record 40 of Set 1 | leningradskiy\n",
      "Processing Record 41 of Set 1 | barrow\n",
      "Processing Record 42 of Set 1 | moerai\n",
      "Processing Record 43 of Set 1 | hobara\n",
      "Processing Record 44 of Set 1 | hithadhoo\n",
      "Processing Record 45 of Set 1 | attawapiskat\n",
      "City Not Found. Skipping......\n",
      "Processing Record 46 of Set 1 | chokurdakh\n",
      "Processing Record 47 of Set 1 | shaunavon\n",
      "Processing Record 48 of Set 1 | yellowknife\n",
      "Processing Record 49 of Set 1 | grindavik\n",
      "Processing Record 50 of Set 1 | laguna\n",
      "Processing Record 0 of Set 2 | illoqqortoormiut\n",
      "City Not Found. Skipping......\n",
      "Processing Record 1 of Set 2 | solton\n",
      "Processing Record 2 of Set 2 | severo-kurilsk\n",
      "Processing Record 3 of Set 2 | turukhansk\n",
      "Processing Record 4 of Set 2 | mahebourg\n",
      "Processing Record 5 of Set 2 | arraial do cabo\n",
      "Processing Record 6 of Set 2 | shalinskoye\n",
      "Processing Record 7 of Set 2 | yingzhong\n",
      "City Not Found. Skipping......\n",
      "Processing Record 8 of Set 2 | kapaa\n",
      "Processing Record 9 of Set 2 | vila velha\n",
      "Processing Record 10 of Set 2 | lebu\n",
      "Processing Record 11 of Set 2 | busselton\n",
      "Processing Record 12 of Set 2 | georgetown\n",
      "Processing Record 13 of Set 2 | wanning\n",
      "Processing Record 14 of Set 2 | houston\n",
      "Processing Record 15 of Set 2 | ushuaia\n",
      "Processing Record 16 of Set 2 | nikolskoye\n",
      "Processing Record 17 of Set 2 | dikson\n",
      "Processing Record 18 of Set 2 | pandan niog\n",
      "Processing Record 19 of Set 2 | punta arenas\n",
      "Processing Record 20 of Set 2 | gushikawa\n",
      "Processing Record 21 of Set 2 | chuy\n",
      "Processing Record 22 of Set 2 | skjervoy\n",
      "Processing Record 23 of Set 2 | ankara\n",
      "Processing Record 24 of Set 2 | coihaique\n",
      "Processing Record 25 of Set 2 | cabo san lucas\n",
      "Processing Record 26 of Set 2 | norman wells\n",
      "Processing Record 27 of Set 2 | capoeiras\n",
      "Processing Record 28 of Set 2 | iqaluit\n",
      "Processing Record 29 of Set 2 | sentyabrskiy\n",
      "City Not Found. Skipping......\n",
      "Processing Record 30 of Set 2 | albany\n",
      "Processing Record 31 of Set 2 | mandera\n",
      "Processing Record 32 of Set 2 | teacapan\n",
      "Processing Record 33 of Set 2 | rikitea\n",
      "Processing Record 34 of Set 2 | provideniya\n",
      "Processing Record 35 of Set 2 | souillac\n",
      "Processing Record 36 of Set 2 | ca mau\n",
      "Processing Record 37 of Set 2 | ciudad guayana\n",
      "Processing Record 38 of Set 2 | new norfolk\n",
      "Processing Record 39 of Set 2 | henties bay\n",
      "Processing Record 40 of Set 2 | kruisfontein\n",
      "Processing Record 41 of Set 2 | amderma\n",
      "City Not Found. Skipping......\n",
      "Processing Record 42 of Set 2 | noumea\n",
      "Processing Record 43 of Set 2 | faanui\n",
      "Processing Record 44 of Set 2 | kodiak\n",
      "Processing Record 45 of Set 2 | alofi\n",
      "Processing Record 46 of Set 2 | tuatapere\n",
      "Processing Record 47 of Set 2 | amapa\n",
      "Processing Record 48 of Set 2 | tasiilaq\n",
      "Processing Record 49 of Set 2 | sao gabriel da cachoeira\n",
      "Processing Record 0 of Set 3 | palaikastron\n",
      "Processing Record 1 of Set 3 | aasiaat\n",
      "Processing Record 2 of Set 3 | mareeba\n",
      "Processing Record 3 of Set 3 | victoria\n",
      "Processing Record 4 of Set 3 | sobolevo\n",
      "Processing Record 5 of Set 3 | augusto correa\n",
      "Processing Record 6 of Set 3 | kutum\n",
      "Processing Record 7 of Set 3 | slave lake\n",
      "Processing Record 8 of Set 3 | nikki\n",
      "Processing Record 9 of Set 3 | arlit\n",
      "Processing Record 10 of Set 3 | montrose\n",
      "Processing Record 11 of Set 3 | baie-comeau\n",
      "Processing Record 12 of Set 3 | narsaq\n",
      "Processing Record 13 of Set 3 | angra dos reis\n",
      "Processing Record 14 of Set 3 | kuche\n",
      "City Not Found. Skipping......\n",
      "Processing Record 15 of Set 3 | saldanha\n",
      "Processing Record 16 of Set 3 | vestmannaeyjar\n",
      "Processing Record 17 of Set 3 | mount gambier\n",
      "Processing Record 18 of Set 3 | roros\n",
      "Processing Record 19 of Set 3 | rawson\n",
      "Processing Record 20 of Set 3 | barentsburg\n",
      "City Not Found. Skipping......\n",
      "Processing Record 21 of Set 3 | lavrentiya\n",
      "Processing Record 22 of Set 3 | egvekinot\n",
      "Processing Record 23 of Set 3 | oktyabrskiy\n",
      "Processing Record 24 of Set 3 | tuktoyaktuk\n",
      "Processing Record 25 of Set 3 | port hardy\n",
      "Processing Record 26 of Set 3 | guerrero\n",
      "Processing Record 27 of Set 3 | airai\n",
      "Processing Record 28 of Set 3 | bambous virieux\n",
      "Processing Record 29 of Set 3 | taoudenni\n",
      "Processing Record 30 of Set 3 | hermagor\n",
      "Processing Record 31 of Set 3 | buin\n",
      "Processing Record 32 of Set 3 | fortuna\n",
      "Processing Record 33 of Set 3 | yar-sale\n",
      "Processing Record 34 of Set 3 | bluff\n",
      "Processing Record 35 of Set 3 | healdsburg\n",
      "Processing Record 36 of Set 3 | abbeville\n",
      "Processing Record 37 of Set 3 | fengrun\n",
      "Processing Record 38 of Set 3 | karratha\n",
      "Processing Record 39 of Set 3 | bischwiller\n",
      "Processing Record 40 of Set 3 | cayenne\n",
      "Processing Record 41 of Set 3 | saskylakh\n",
      "Processing Record 42 of Set 3 | hilo\n",
      "Processing Record 43 of Set 3 | mao\n",
      "Processing Record 44 of Set 3 | mekhe\n",
      "Processing Record 45 of Set 3 | annau\n",
      "Processing Record 46 of Set 3 | san patricio\n",
      "Processing Record 47 of Set 3 | ribeira grande\n",
      "Processing Record 48 of Set 3 | adre\n",
      "Processing Record 49 of Set 3 | dabat\n",
      "Processing Record 0 of Set 4 | cidreira\n",
      "Processing Record 1 of Set 4 | tautira\n",
      "Processing Record 2 of Set 4 | camacupa\n",
      "Processing Record 3 of Set 4 | ardakan\n",
      "Processing Record 4 of Set 4 | klaksvik\n",
      "Processing Record 5 of Set 4 | sompeta\n",
      "Processing Record 6 of Set 4 | gubkin\n",
      "Processing Record 7 of Set 4 | chapais\n",
      "Processing Record 8 of Set 4 | karauzyak\n",
      "City Not Found. Skipping......\n",
      "Processing Record 9 of Set 4 | kapit\n",
      "Processing Record 10 of Set 4 | port elizabeth\n",
      "Processing Record 11 of Set 4 | puerto escondido\n",
      "Processing Record 12 of Set 4 | mettur\n",
      "Processing Record 13 of Set 4 | sitka\n",
      "Processing Record 14 of Set 4 | umzimvubu\n",
      "City Not Found. Skipping......\n",
      "Processing Record 15 of Set 4 | okha\n",
      "Processing Record 16 of Set 4 | mallapuram\n",
      "Processing Record 17 of Set 4 | cockburn town\n",
      "Processing Record 18 of Set 4 | pemba\n",
      "Processing Record 19 of Set 4 | sasmuan\n",
      "Processing Record 20 of Set 4 | zhigansk\n",
      "Processing Record 21 of Set 4 | ngukurr\n",
      "City Not Found. Skipping......\n",
      "Processing Record 22 of Set 4 | kahului\n",
      "Processing Record 23 of Set 4 | bolungarvik\n",
      "City Not Found. Skipping......\n",
      "Processing Record 24 of Set 4 | padang\n",
      "Processing Record 25 of Set 4 | yakeshi\n",
      "Processing Record 26 of Set 4 | santiago\n",
      "Processing Record 27 of Set 4 | camabatela\n",
      "Processing Record 28 of Set 4 | daru\n",
      "Processing Record 29 of Set 4 | clyde river\n",
      "Processing Record 30 of Set 4 | arman\n",
      "Processing Record 31 of Set 4 | anadyr\n",
      "Processing Record 32 of Set 4 | batagay-alyta\n",
      "Processing Record 33 of Set 4 | lorengau\n",
      "Processing Record 34 of Set 4 | santa rosa\n",
      "Processing Record 35 of Set 4 | grand gaube\n",
      "Processing Record 36 of Set 4 | geraldton\n"
     ]
    },
    {
     "name": "stdout",
     "output_type": "stream",
     "text": [
      "Processing Record 37 of Set 4 | kavaratti\n",
      "Processing Record 38 of Set 4 | khandyga\n",
      "Processing Record 39 of Set 4 | xinqing\n",
      "Processing Record 40 of Set 4 | beringovskiy\n",
      "Processing Record 41 of Set 4 | olafsvik\n",
      "Processing Record 42 of Set 4 | port-gentil\n",
      "Processing Record 43 of Set 4 | samusu\n",
      "City Not Found. Skipping......\n",
      "Processing Record 44 of Set 4 | kremenki\n",
      "Processing Record 45 of Set 4 | mortka\n",
      "Processing Record 46 of Set 4 | qaanaaq\n",
      "Processing Record 47 of Set 4 | helong\n",
      "Processing Record 48 of Set 4 | thompson\n",
      "Processing Record 49 of Set 4 | high level\n",
      "Processing Record 0 of Set 5 | banda aceh\n",
      "Processing Record 1 of Set 5 | san policarpo\n",
      "Processing Record 2 of Set 5 | tsihombe\n",
      "City Not Found. Skipping......\n",
      "Processing Record 3 of Set 5 | naze\n",
      "Processing Record 4 of Set 5 | zarate\n",
      "Processing Record 5 of Set 5 | mys shmidta\n",
      "City Not Found. Skipping......\n",
      "Processing Record 6 of Set 5 | buala\n",
      "Processing Record 7 of Set 5 | marondera\n",
      "Processing Record 8 of Set 5 | port alfred\n",
      "Processing Record 9 of Set 5 | san cristobal\n",
      "Processing Record 10 of Set 5 | puerto ayora\n",
      "Processing Record 11 of Set 5 | mpika\n",
      "Processing Record 12 of Set 5 | fort nelson\n",
      "Processing Record 13 of Set 5 | nizhneyansk\n",
      "City Not Found. Skipping......\n",
      "Processing Record 14 of Set 5 | sur\n",
      "Processing Record 15 of Set 5 | alekseyevsk\n",
      "Processing Record 16 of Set 5 | boyolangu\n",
      "Processing Record 17 of Set 5 | san quintin\n",
      "Processing Record 18 of Set 5 | ilulissat\n",
      "Processing Record 19 of Set 5 | bom conselho\n",
      "Processing Record 20 of Set 5 | camana\n",
      "Processing Record 21 of Set 5 | dubuque\n",
      "Processing Record 22 of Set 5 | menongue\n",
      "Processing Record 23 of Set 5 | coffs harbour\n",
      "Processing Record 24 of Set 5 | pangnirtung\n",
      "Processing Record 25 of Set 5 | moen\n",
      "Processing Record 26 of Set 5 | zlitan\n",
      "Processing Record 27 of Set 5 | grand river south east\n",
      "City Not Found. Skipping......\n",
      "Processing Record 28 of Set 5 | ancud\n",
      "Processing Record 29 of Set 5 | oulu\n",
      "Processing Record 30 of Set 5 | saint-pierre\n",
      "Processing Record 31 of Set 5 | choya\n",
      "Processing Record 32 of Set 5 | deputatskiy\n",
      "Processing Record 33 of Set 5 | sawai madhopur\n",
      "Processing Record 34 of Set 5 | labuhan\n",
      "Processing Record 35 of Set 5 | ostrovnoy\n",
      "Processing Record 36 of Set 5 | sterling\n",
      "Processing Record 37 of Set 5 | belushya guba\n",
      "City Not Found. Skipping......\n",
      "Processing Record 38 of Set 5 | prieska\n",
      "Processing Record 39 of Set 5 | luancheng\n",
      "Processing Record 40 of Set 5 | nanortalik\n",
      "Processing Record 41 of Set 5 | pevek\n",
      "Processing Record 42 of Set 5 | zlatoustovsk\n",
      "City Not Found. Skipping......\n",
      "Processing Record 43 of Set 5 | port hedland\n",
      "Processing Record 44 of Set 5 | balabac\n",
      "Processing Record 45 of Set 5 | tahe\n",
      "Processing Record 46 of Set 5 | sao filipe\n",
      "Processing Record 47 of Set 5 | ganta\n",
      "Processing Record 48 of Set 5 | sarlat-la-caneda\n",
      "Processing Record 49 of Set 5 | khormuj\n",
      "City Not Found. Skipping......\n",
      "Processing Record 0 of Set 6 | marcona\n",
      "City Not Found. Skipping......\n",
      "Processing Record 1 of Set 6 | khasan\n",
      "Processing Record 2 of Set 6 | japura\n",
      "Processing Record 3 of Set 6 | balsas\n",
      "Processing Record 4 of Set 6 | messina\n",
      "Processing Record 5 of Set 6 | calderitas\n",
      "Processing Record 6 of Set 6 | kangaatsiaq\n",
      "Processing Record 7 of Set 6 | bardiyah\n",
      "Processing Record 8 of Set 6 | byron bay\n",
      "Processing Record 9 of Set 6 | faya\n",
      "Processing Record 10 of Set 6 | wuzhou\n",
      "Processing Record 11 of Set 6 | bonavista\n",
      "Processing Record 12 of Set 6 | nyuzen\n",
      "Processing Record 13 of Set 6 | potgietersrus\n",
      "City Not Found. Skipping......\n",
      "Processing Record 14 of Set 6 | luderitz\n",
      "Processing Record 15 of Set 6 | axim\n",
      "Processing Record 16 of Set 6 | havre-saint-pierre\n",
      "Processing Record 17 of Set 6 | northam\n",
      "Processing Record 18 of Set 6 | ordynskoye\n",
      "Processing Record 19 of Set 6 | konongo\n",
      "Processing Record 20 of Set 6 | chifeng\n",
      "Processing Record 21 of Set 6 | wairoa\n",
      "Processing Record 22 of Set 6 | carazinho\n",
      "Processing Record 23 of Set 6 | caucaia\n",
      "Processing Record 24 of Set 6 | baghdad\n",
      "Processing Record 25 of Set 6 | labuan\n",
      "Processing Record 26 of Set 6 | dolinsk\n",
      "Processing Record 27 of Set 6 | kirkenes\n",
      "Processing Record 28 of Set 6 | buta\n",
      "Processing Record 29 of Set 6 | nome\n",
      "Processing Record 30 of Set 6 | roebourne\n",
      "Processing Record 31 of Set 6 | havoysund\n",
      "Processing Record 32 of Set 6 | pisco\n",
      "Processing Record 33 of Set 6 | rocha\n",
      "Processing Record 34 of Set 6 | saint george\n",
      "Processing Record 35 of Set 6 | lata\n",
      "Processing Record 36 of Set 6 | tumannyy\n",
      "City Not Found. Skipping......\n",
      "Processing Record 37 of Set 6 | saint-joseph\n",
      "Processing Record 38 of Set 6 | bijie\n",
      "Processing Record 39 of Set 6 | hami\n",
      "Processing Record 40 of Set 6 | paucartambo\n",
      "City Not Found. Skipping......\n",
      "Processing Record 41 of Set 6 | sing buri\n",
      "Processing Record 42 of Set 6 | opobo\n",
      "City Not Found. Skipping......\n",
      "Processing Record 43 of Set 6 | mitu\n",
      "Processing Record 44 of Set 6 | maraa\n",
      "Processing Record 45 of Set 6 | carnarvon\n",
      "Processing Record 46 of Set 6 | bathsheba\n",
      "Processing Record 47 of Set 6 | choix\n",
      "Processing Record 48 of Set 6 | astana\n",
      "Processing Record 49 of Set 6 | mitsamiouli\n",
      "Processing Record 0 of Set 7 | kamenskoye\n",
      "City Not Found. Skipping......\n",
      "Processing Record 1 of Set 7 | asau\n",
      "Processing Record 2 of Set 7 | consolacion del sur\n",
      "Processing Record 3 of Set 7 | murray bridge\n",
      "Processing Record 4 of Set 7 | sorong\n",
      "Processing Record 5 of Set 7 | peace river\n",
      "Processing Record 6 of Set 7 | iracoubo\n",
      "Processing Record 7 of Set 7 | mackenzie\n",
      "Processing Record 8 of Set 7 | sao mateus do sul\n",
      "Processing Record 9 of Set 7 | mikulovice\n",
      "Processing Record 10 of Set 7 | kachikau\n",
      "City Not Found. Skipping......\n",
      "Processing Record 11 of Set 7 | colares\n",
      "Processing Record 12 of Set 7 | liverpool\n",
      "Processing Record 13 of Set 7 | shahrud\n",
      "Processing Record 14 of Set 7 | east london\n",
      "Processing Record 15 of Set 7 | torbay\n",
      "Processing Record 16 of Set 7 | nelson bay\n",
      "Processing Record 17 of Set 7 | codrington\n",
      "Processing Record 18 of Set 7 | vostok\n",
      "Processing Record 19 of Set 7 | iguape\n",
      "Processing Record 20 of Set 7 | aklavik\n",
      "Processing Record 21 of Set 7 | ormara\n",
      "Processing Record 22 of Set 7 | ozgon\n",
      "City Not Found. Skipping......\n",
      "Processing Record 23 of Set 7 | santa cruz\n",
      "Processing Record 24 of Set 7 | zhigalovo\n",
      "Processing Record 25 of Set 7 | nicoya\n",
      "Processing Record 26 of Set 7 | lahat\n",
      "Processing Record 27 of Set 7 | safwah\n",
      "City Not Found. Skipping......\n",
      "Processing Record 28 of Set 7 | port lincoln\n",
      "Processing Record 29 of Set 7 | hare bay\n",
      "Processing Record 30 of Set 7 | santa marta\n",
      "Processing Record 31 of Set 7 | longyearbyen\n",
      "Processing Record 32 of Set 7 | ubatuba\n",
      "Processing Record 33 of Set 7 | bloemhof\n",
      "Processing Record 34 of Set 7 | malvern\n",
      "Processing Record 35 of Set 7 | wulanhaote\n",
      "City Not Found. Skipping......\n",
      "Processing Record 36 of Set 7 | acapulco\n",
      "Processing Record 37 of Set 7 | upernavik\n",
      "Processing Record 38 of Set 7 | guajara-mirim\n",
      "City Not Found. Skipping......\n",
      "Processing Record 39 of Set 7 | kilindoni\n",
      "Processing Record 40 of Set 7 | utiroa\n",
      "City Not Found. Skipping......\n",
      "Processing Record 41 of Set 7 | ous\n",
      "Processing Record 42 of Set 7 | doctor pedro p. pena\n",
      "City Not Found. Skipping......\n",
      "Processing Record 43 of Set 7 | manggar\n",
      "Processing Record 44 of Set 7 | lardos\n",
      "Processing Record 45 of Set 7 | namibe\n",
      "Processing Record 46 of Set 7 | narodychi\n",
      "Processing Record 47 of Set 7 | alice springs\n",
      "Processing Record 48 of Set 7 | saraland\n",
      "Processing Record 49 of Set 7 | muros\n",
      "Processing Record 0 of Set 8 | kimbe\n",
      "Processing Record 1 of Set 8 | ponta do sol\n",
      "Processing Record 2 of Set 8 | lebane\n",
      "Processing Record 3 of Set 8 | port macquarie\n",
      "Processing Record 4 of Set 8 | qaqortoq\n",
      "Processing Record 5 of Set 8 | nemuro\n",
      "Processing Record 6 of Set 8 | trairi\n",
      "Processing Record 7 of Set 8 | inhambane\n",
      "Processing Record 8 of Set 8 | hay river\n",
      "Processing Record 9 of Set 8 | namatanai\n",
      "Processing Record 10 of Set 8 | stokmarknes\n",
      "Processing Record 11 of Set 8 | eyl\n",
      "Processing Record 12 of Set 8 | yagodnoye\n",
      "Processing Record 13 of Set 8 | atagay\n",
      "Processing Record 14 of Set 8 | katsuura\n",
      "Processing Record 15 of Set 8 | hibbing\n",
      "Processing Record 16 of Set 8 | korla\n",
      "Processing Record 17 of Set 8 | erzin\n",
      "Processing Record 18 of Set 8 | tongren\n",
      "Processing Record 19 of Set 8 | whitehorse\n",
      "Processing Record 20 of Set 8 | havelock\n"
     ]
    },
    {
     "name": "stdout",
     "output_type": "stream",
     "text": [
      "Processing Record 21 of Set 8 | caravelas\n",
      "Processing Record 22 of Set 8 | kokopo\n",
      "Processing Record 23 of Set 8 | tarashcha\n",
      "Processing Record 24 of Set 8 | brownsville\n",
      "Processing Record 25 of Set 8 | nikel\n",
      "Processing Record 26 of Set 8 | launceston\n",
      "Processing Record 27 of Set 8 | kendari\n",
      "Processing Record 28 of Set 8 | abu dhabi\n",
      "Processing Record 29 of Set 8 | dickinson\n",
      "Processing Record 30 of Set 8 | bismarck\n",
      "Processing Record 31 of Set 8 | malpe\n",
      "Processing Record 32 of Set 8 | brae\n",
      "Processing Record 33 of Set 8 | bontang\n",
      "Processing Record 34 of Set 8 | requena\n",
      "Processing Record 35 of Set 8 | maryborough\n",
      "Processing Record 36 of Set 8 | yatou\n",
      "Processing Record 37 of Set 8 | richards bay\n",
      "Processing Record 38 of Set 8 | sept-iles\n",
      "Processing Record 39 of Set 8 | port shepstone\n",
      "Processing Record 40 of Set 8 | lewiston\n",
      "Processing Record 41 of Set 8 | kununurra\n",
      "Processing Record 42 of Set 8 | yulara\n",
      "Processing Record 43 of Set 8 | nhulunbuy\n",
      "Processing Record 44 of Set 8 | indian head\n",
      "Processing Record 45 of Set 8 | sicuani\n",
      "Processing Record 46 of Set 8 | ouallam\n",
      "Processing Record 47 of Set 8 | kargasok\n",
      "Processing Record 48 of Set 8 | hambantota\n",
      "Processing Record 49 of Set 8 | berlevag\n",
      "Processing Record 0 of Set 9 | cedral\n",
      "Processing Record 1 of Set 9 | haines junction\n",
      "Processing Record 2 of Set 9 | shahpur city\n",
      "City Not Found. Skipping......\n",
      "Processing Record 3 of Set 9 | birobidzhan\n",
      "Processing Record 4 of Set 9 | nicolas bravo\n",
      "Processing Record 5 of Set 9 | ciudad bolivar\n",
      "Processing Record 6 of Set 9 | barawe\n",
      "City Not Found. Skipping......\n",
      "Processing Record 7 of Set 9 | jiamusi\n",
      "Processing Record 8 of Set 9 | viedma\n",
      "Processing Record 9 of Set 9 | dingle\n",
      "Processing Record 10 of Set 9 | ampanihy\n",
      "Processing Record 11 of Set 9 | kudahuvadhoo\n",
      "Processing Record 12 of Set 9 | lerwick\n",
      "Processing Record 13 of Set 9 | palabuhanratu\n",
      "City Not Found. Skipping......\n",
      "Processing Record 14 of Set 9 | carbondale\n",
      "Processing Record 15 of Set 9 | iquitos\n",
      "Processing Record 16 of Set 9 | komsomolskiy\n",
      "Processing Record 17 of Set 9 | pangkalanbuun\n",
      "Processing Record 18 of Set 9 | milingimbi\n",
      "City Not Found. Skipping......\n",
      "Processing Record 19 of Set 9 | broken hill\n",
      "Processing Record 20 of Set 9 | shangrao\n",
      "Processing Record 21 of Set 9 | luanda\n",
      "Processing Record 22 of Set 9 | verkhoyansk\n",
      "Processing Record 23 of Set 9 | salalah\n",
      "Processing Record 24 of Set 9 | krasnyy chikoy\n",
      "Processing Record 25 of Set 9 | boende\n",
      "Processing Record 26 of Set 9 | ulaanbaatar\n",
      "Processing Record 27 of Set 9 | batemans bay\n",
      "Processing Record 28 of Set 9 | bellmawr\n",
      "Processing Record 29 of Set 9 | sioux falls\n",
      "Processing Record 30 of Set 9 | stromness\n",
      "Processing Record 31 of Set 9 | miri\n",
      "Processing Record 32 of Set 9 | ambositra\n",
      "Processing Record 33 of Set 9 | canico\n",
      "Processing Record 34 of Set 9 | oksfjord\n",
      "Processing Record 35 of Set 9 | lyubech\n",
      "Processing Record 36 of Set 9 | jarjis\n",
      "City Not Found. Skipping......\n",
      "Processing Record 37 of Set 9 | yumen\n",
      "Processing Record 38 of Set 9 | zaysan\n",
      "Processing Record 39 of Set 9 | kuryk\n",
      "Processing Record 40 of Set 9 | abu zabad\n",
      "Processing Record 41 of Set 9 | robinson\n",
      "Processing Record 42 of Set 9 | ballinrobe\n",
      "Processing Record 43 of Set 9 | pitimbu\n",
      "Processing Record 44 of Set 9 | cuyo\n",
      "Processing Record 45 of Set 9 | grenaa\n",
      "Processing Record 46 of Set 9 | orcopampa\n",
      "Processing Record 47 of Set 9 | asmar\n",
      "Processing Record 48 of Set 9 | kaohsiung\n",
      "Processing Record 49 of Set 9 | barcelona\n",
      "Processing Record 0 of Set 10 | geilo\n",
      "Processing Record 1 of Set 10 | dunedin\n",
      "Processing Record 2 of Set 10 | guaratinga\n",
      "Processing Record 3 of Set 10 | lokhvytsya\n",
      "Processing Record 4 of Set 10 | neuquen\n",
      "Processing Record 5 of Set 10 | bubaque\n",
      "Processing Record 6 of Set 10 | quibdo\n",
      "Processing Record 7 of Set 10 | satitoa\n",
      "City Not Found. Skipping......\n",
      "Processing Record 8 of Set 10 | portales\n",
      "Processing Record 9 of Set 10 | chegem\n",
      "Processing Record 10 of Set 10 | brewster\n",
      "Processing Record 11 of Set 10 | camargo\n",
      "Processing Record 12 of Set 10 | barguzin\n",
      "Processing Record 13 of Set 10 | lompoc\n",
      "Processing Record 14 of Set 10 | srivardhan\n",
      "Processing Record 15 of Set 10 | kavieng\n",
      "Processing Record 16 of Set 10 | finschhafen\n",
      "Processing Record 17 of Set 10 | tampa\n",
      "Processing Record 18 of Set 10 | igarka\n",
      "Processing Record 19 of Set 10 | matamoros\n",
      "Processing Record 20 of Set 10 | moron\n",
      "Processing Record 21 of Set 10 | novobirilyussy\n",
      "Processing Record 22 of Set 10 | tairua\n",
      "Processing Record 23 of Set 10 | velsk\n",
      "Processing Record 24 of Set 10 | hobyo\n",
      "Processing Record 25 of Set 10 | nioro\n",
      "Processing Record 26 of Set 10 | sangar\n",
      "Processing Record 27 of Set 10 | houma\n",
      "Processing Record 28 of Set 10 | damietta\n",
      "Processing Record 29 of Set 10 | scottsburgh\n",
      "City Not Found. Skipping......\n",
      "Processing Record 30 of Set 10 | sioux lookout\n",
      "Processing Record 31 of Set 10 | mehriz\n",
      "Processing Record 32 of Set 10 | portoferraio\n",
      "Processing Record 33 of Set 10 | nador\n",
      "Processing Record 34 of Set 10 | hamm\n",
      "Processing Record 35 of Set 10 | tshikapa\n",
      "Processing Record 36 of Set 10 | praia\n",
      "Processing Record 37 of Set 10 | mangai\n",
      "Processing Record 38 of Set 10 | pavlohrad\n",
      "Processing Record 39 of Set 10 | marsa matruh\n",
      "Processing Record 40 of Set 10 | kouango\n",
      "Processing Record 41 of Set 10 | hecun\n",
      "Processing Record 42 of Set 10 | north battleford\n",
      "Processing Record 43 of Set 10 | stornoway\n",
      "Processing Record 44 of Set 10 | husavik\n",
      "Processing Record 45 of Set 10 | karasjok\n",
      "Processing Record 46 of Set 10 | tabory\n",
      "Processing Record 47 of Set 10 | verkhnyaya inta\n",
      "Processing Record 48 of Set 10 | sharjah\n",
      "Processing Record 49 of Set 10 | giyani\n",
      "Processing Record 0 of Set 11 | cabedelo\n",
      "Processing Record 1 of Set 11 | grenada\n",
      "Processing Record 2 of Set 11 | kuito\n",
      "Processing Record 3 of Set 11 | nuuk\n",
      "Processing Record 4 of Set 11 | korem\n",
      "Processing Record 5 of Set 11 | vieques\n",
      "Processing Record 6 of Set 11 | bima\n",
      "Processing Record 7 of Set 11 | suntar\n",
      "Processing Record 8 of Set 11 | soyo\n",
      "Processing Record 9 of Set 11 | sistranda\n",
      "Processing Record 10 of Set 11 | tazovskiy\n",
      "Processing Record 11 of Set 11 | tura\n",
      "Processing Record 12 of Set 11 | constitucion\n",
      "Processing Record 13 of Set 11 | aguililla\n",
      "Processing Record 14 of Set 11 | pitea\n",
      "Processing Record 15 of Set 11 | ahar\n",
      "Processing Record 16 of Set 11 | roma\n",
      "Processing Record 17 of Set 11 | coquimbo\n",
      "Processing Record 18 of Set 11 | bukama\n",
      "Processing Record 19 of Set 11 | avera\n",
      "Processing Record 20 of Set 11 | muroto\n",
      "Processing Record 21 of Set 11 | am timan\n",
      "Processing Record 22 of Set 11 | raudeberg\n",
      "Processing Record 23 of Set 11 | neryungri\n",
      "Processing Record 24 of Set 11 | batagay\n",
      "Processing Record 25 of Set 11 | crasna\n",
      "Processing Record 26 of Set 11 | mount isa\n",
      "Processing Record 27 of Set 11 | flin flon\n",
      "Processing Record 28 of Set 11 | haibowan\n",
      "City Not Found. Skipping......\n",
      "Processing Record 29 of Set 11 | paita\n",
      "Processing Record 30 of Set 11 | lazaro cardenas\n",
      "Processing Record 31 of Set 11 | patnos\n",
      "Processing Record 32 of Set 11 | makushino\n",
      "Processing Record 33 of Set 11 | rivera\n",
      "Processing Record 34 of Set 11 | urman\n",
      "Processing Record 35 of Set 11 | waingapu\n",
      "Processing Record 36 of Set 11 | mwinilunga\n",
      "Processing Record 37 of Set 11 | mildura\n",
      "Processing Record 38 of Set 11 | warman\n",
      "Processing Record 39 of Set 11 | gamba\n",
      "Processing Record 40 of Set 11 | samarai\n",
      "Processing Record 41 of Set 11 | baruun-urt\n",
      "Processing Record 42 of Set 11 | khorixas\n",
      "Processing Record 43 of Set 11 | sahrak\n",
      "City Not Found. Skipping......\n",
      "Processing Record 44 of Set 11 | chumikan\n",
      "Processing Record 45 of Set 11 | ayan\n",
      "Processing Record 46 of Set 11 | fairbanks\n",
      "Processing Record 47 of Set 11 | ambilobe\n",
      "Processing Record 48 of Set 11 | nampula\n",
      "Processing Record 49 of Set 11 | takaka\n",
      "Processing Record 0 of Set 12 | latung\n",
      "Processing Record 1 of Set 12 | werda\n",
      "Processing Record 2 of Set 12 | pierre\n",
      "Processing Record 3 of Set 12 | cullman\n",
      "Processing Record 4 of Set 12 | ardesen\n",
      "Processing Record 5 of Set 12 | vilhena\n",
      "Processing Record 6 of Set 12 | fergus falls\n",
      "Processing Record 7 of Set 12 | domoni\n",
      "Processing Record 8 of Set 12 | tabas\n",
      "Processing Record 9 of Set 12 | goderich\n",
      "Processing Record 10 of Set 12 | norrtalje\n",
      "Processing Record 11 of Set 12 | port blair\n",
      "Processing Record 12 of Set 12 | kurchum\n"
     ]
    },
    {
     "name": "stdout",
     "output_type": "stream",
     "text": [
      "Processing Record 13 of Set 12 | panlaitan\n",
      "Processing Record 14 of Set 12 | darlowo\n",
      "Processing Record 15 of Set 12 | ibra\n",
      "Processing Record 16 of Set 12 | atambua\n",
      "Processing Record 17 of Set 12 | rudbar\n",
      "Processing Record 18 of Set 12 | chalus\n",
      "Processing Record 19 of Set 12 | touros\n",
      "Processing Record 20 of Set 12 | guerrero negro\n",
      "Processing Record 21 of Set 12 | palmer\n",
      "Processing Record 22 of Set 12 | san blas\n",
      "Processing Record 23 of Set 12 | aksu\n",
      "Processing Record 24 of Set 12 | carballo\n",
      "Processing Record 25 of Set 12 | golspie\n",
      "Processing Record 26 of Set 12 | wahran\n",
      "City Not Found. Skipping......\n",
      "Processing Record 27 of Set 12 | acajutla\n",
      "Processing Record 28 of Set 12 | chichli\n",
      "Processing Record 29 of Set 12 | merauke\n",
      "Processing Record 30 of Set 12 | hisua\n",
      "Processing Record 31 of Set 12 | lushoto\n",
      "Processing Record 32 of Set 12 | shubarshi\n",
      "Processing Record 33 of Set 12 | shache\n",
      "Processing Record 34 of Set 12 | salinopolis\n",
      "Processing Record 35 of Set 12 | antofagasta\n",
      "Processing Record 36 of Set 12 | arawa\n",
      "Processing Record 37 of Set 12 | lagoa\n",
      "Processing Record 38 of Set 12 | bargal\n",
      "City Not Found. Skipping......\n",
      "Processing Record 39 of Set 12 | katherine\n",
      "Processing Record 40 of Set 12 | cravo norte\n",
      "Processing Record 41 of Set 12 | kachiry\n",
      "Processing Record 42 of Set 12 | itainopolis\n",
      "Processing Record 43 of Set 12 | necochea\n",
      "Processing Record 44 of Set 12 | akyab\n",
      "Processing Record 45 of Set 12 | sambava\n",
      "Processing Record 46 of Set 12 | azimur\n",
      "City Not Found. Skipping......\n",
      "Processing Record 47 of Set 12 | walvis bay\n",
      "Processing Record 48 of Set 12 | guder\n",
      "Processing Record 49 of Set 12 | comodoro rivadavia\n",
      "Processing Record 0 of Set 13 | tilichiki\n",
      "Processing Record 1 of Set 13 | along\n",
      "Processing Record 2 of Set 13 | beloha\n",
      "Processing Record 3 of Set 13 | oistins\n",
      "Processing Record 4 of Set 13 | inta\n",
      "Processing Record 5 of Set 13 | guadalupe y calvo\n",
      "Processing Record 6 of Set 13 | tartagal\n",
      "Processing Record 7 of Set 13 | lagunas\n",
      "Processing Record 8 of Set 13 | hit\n",
      "Processing Record 9 of Set 13 | rognac\n",
      "Processing Record 10 of Set 13 | maragogi\n",
      "Processing Record 11 of Set 13 | seminole\n",
      "Processing Record 12 of Set 13 | zhumadian\n",
      "Processing Record 13 of Set 13 | pontivy\n",
      "Processing Record 14 of Set 13 | sao joao da barra\n",
      "Processing Record 15 of Set 13 | datong\n",
      "Processing Record 16 of Set 13 | hulyaypole\n",
      "Processing Record 17 of Set 13 | ranot\n",
      "Processing Record 18 of Set 13 | znamenskoye\n",
      "Processing Record 19 of Set 13 | shambu\n",
      "Processing Record 20 of Set 13 | aranos\n",
      "--------------------------------\n",
      "Data Retrieval Complete         \n",
      "--------------------------------\n"
     ]
    }
   ],
   "source": [
    "# Tutor's help...\n",
    "\n",
    "url = \"http://api.openweathermap.org/data/2.5/weather?units=Imperial&APPID=\" + api_key\n",
    "# List of city data\n",
    "city_data = []\n",
    "\n",
    "#Print to logger\n",
    "print(\"Beginning data retrieval        \")\n",
    "print(\"--------------------------------\")\n",
    "\n",
    "# Create counter\n",
    "record_count = 1\n",
    "set_count = 1 \n",
    "\n",
    "# Loop through all cities in list\n",
    "for i, city in enumerate(cities):\n",
    "    \n",
    "    # Group cities in groups of 50\n",
    "    if (i %50==0 and i!=0):\n",
    "        set_count += 1 \n",
    "        record_count = 0\n",
    "        time.sleep(3)\n",
    "    # Create endpoint for each city\n",
    "    city_url = url+'&q='+city\n",
    "    print('Processing Record %s of Set %s | %s' % (record_count, set_count, city))\n",
    "    \n",
    "    record_count += 1 \n",
    "    \n",
    "    # Run API request for each city\n",
    "    response = requests.get(city_url)\n",
    "    results = response.json()\n",
    "    \n",
    "    try:\n",
    "        city_lat = results['coord']['lat']\n",
    "        city_lng = results['coord']['lon']\n",
    "        city_max_temp = results['main']['temp_max']\n",
    "        city_humidity = results['main']['humidity']\n",
    "        city_clouds = results['clouds']['all']\n",
    "        city_wind = results['wind']['speed']\n",
    "        city_country = results['sys']['country']\n",
    "        city_date = results['dt']\n",
    "\n",
    "        # Append city info into city_data list\n",
    "        city_data.append({'City Name': city,\n",
    "                          'Lat': city_lat,\n",
    "                          'Lng': city_lng,\n",
    "                         'Max Temp': city_max_temp,\n",
    "                         'Humidity': city_humidity,\n",
    "                         'Clouds': city_clouds,\n",
    "                         'Wind': city_wind,\n",
    "                         'Country': city_country,\n",
    "                         'Date': city_date})\n",
    "\n",
    "\n",
    "    except KeyError as e:\n",
    "        print('City Not Found. Skipping......')\n",
    "        pass \n",
    "    \n",
    "print(\"--------------------------------\")\n",
    "print('Data Retrieval Complete         ')\n",
    "print(\"--------------------------------\")\n"
   ]
  },
  {
   "cell_type": "code",
   "execution_count": null,
   "metadata": {},
   "outputs": [],
   "source": []
  },
  {
   "cell_type": "code",
   "execution_count": null,
   "metadata": {
    "scrolled": false
   },
   "outputs": [],
   "source": []
  },
  {
   "cell_type": "code",
   "execution_count": null,
   "metadata": {
    "scrolled": true
   },
   "outputs": [],
   "source": []
  },
  {
   "cell_type": "markdown",
   "metadata": {},
   "source": [
    "### Convert Raw Data to DataFrame\n",
    "* Export the city data into a .csv.\n",
    "* Display the DataFrame"
   ]
  },
  {
   "cell_type": "code",
   "execution_count": 6,
   "metadata": {},
   "outputs": [
    {
     "data": {
      "text/html": [
       "<div>\n",
       "<style scoped>\n",
       "    .dataframe tbody tr th:only-of-type {\n",
       "        vertical-align: middle;\n",
       "    }\n",
       "\n",
       "    .dataframe tbody tr th {\n",
       "        vertical-align: top;\n",
       "    }\n",
       "\n",
       "    .dataframe thead th {\n",
       "        text-align: right;\n",
       "    }\n",
       "</style>\n",
       "<table border=\"1\" class=\"dataframe\">\n",
       "  <thead>\n",
       "    <tr style=\"text-align: right;\">\n",
       "      <th></th>\n",
       "      <th>City Name</th>\n",
       "      <th>Lat</th>\n",
       "      <th>Lng</th>\n",
       "      <th>Max Temp</th>\n",
       "      <th>Humidity</th>\n",
       "      <th>Clouds</th>\n",
       "      <th>Wind</th>\n",
       "      <th>Country</th>\n",
       "      <th>Date</th>\n",
       "    </tr>\n",
       "  </thead>\n",
       "  <tbody>\n",
       "    <tr>\n",
       "      <th>0</th>\n",
       "      <td>fomboni</td>\n",
       "      <td>-12.2800</td>\n",
       "      <td>43.7425</td>\n",
       "      <td>75.67</td>\n",
       "      <td>73</td>\n",
       "      <td>0</td>\n",
       "      <td>13.49</td>\n",
       "      <td>KM</td>\n",
       "      <td>1628050559</td>\n",
       "    </tr>\n",
       "    <tr>\n",
       "      <th>1</th>\n",
       "      <td>cape town</td>\n",
       "      <td>-33.9258</td>\n",
       "      <td>18.4232</td>\n",
       "      <td>56.10</td>\n",
       "      <td>85</td>\n",
       "      <td>0</td>\n",
       "      <td>1.99</td>\n",
       "      <td>ZA</td>\n",
       "      <td>1628050559</td>\n",
       "    </tr>\n",
       "    <tr>\n",
       "      <th>2</th>\n",
       "      <td>turtas</td>\n",
       "      <td>58.9417</td>\n",
       "      <td>69.1325</td>\n",
       "      <td>69.01</td>\n",
       "      <td>63</td>\n",
       "      <td>0</td>\n",
       "      <td>4.68</td>\n",
       "      <td>RU</td>\n",
       "      <td>1628050559</td>\n",
       "    </tr>\n",
       "    <tr>\n",
       "      <th>3</th>\n",
       "      <td>aksarka</td>\n",
       "      <td>66.5606</td>\n",
       "      <td>67.7975</td>\n",
       "      <td>65.43</td>\n",
       "      <td>60</td>\n",
       "      <td>0</td>\n",
       "      <td>5.19</td>\n",
       "      <td>RU</td>\n",
       "      <td>1628050560</td>\n",
       "    </tr>\n",
       "    <tr>\n",
       "      <th>4</th>\n",
       "      <td>cherskiy</td>\n",
       "      <td>68.7500</td>\n",
       "      <td>161.3000</td>\n",
       "      <td>41.56</td>\n",
       "      <td>89</td>\n",
       "      <td>100</td>\n",
       "      <td>8.30</td>\n",
       "      <td>RU</td>\n",
       "      <td>1628050560</td>\n",
       "    </tr>\n",
       "    <tr>\n",
       "      <th>...</th>\n",
       "      <td>...</td>\n",
       "      <td>...</td>\n",
       "      <td>...</td>\n",
       "      <td>...</td>\n",
       "      <td>...</td>\n",
       "      <td>...</td>\n",
       "      <td>...</td>\n",
       "      <td>...</td>\n",
       "      <td>...</td>\n",
       "    </tr>\n",
       "    <tr>\n",
       "      <th>569</th>\n",
       "      <td>hulyaypole</td>\n",
       "      <td>47.6653</td>\n",
       "      <td>36.2578</td>\n",
       "      <td>67.28</td>\n",
       "      <td>68</td>\n",
       "      <td>99</td>\n",
       "      <td>5.44</td>\n",
       "      <td>UA</td>\n",
       "      <td>1628050808</td>\n",
       "    </tr>\n",
       "    <tr>\n",
       "      <th>570</th>\n",
       "      <td>ranot</td>\n",
       "      <td>7.7777</td>\n",
       "      <td>100.3213</td>\n",
       "      <td>87.91</td>\n",
       "      <td>62</td>\n",
       "      <td>100</td>\n",
       "      <td>19.55</td>\n",
       "      <td>TH</td>\n",
       "      <td>1628050638</td>\n",
       "    </tr>\n",
       "    <tr>\n",
       "      <th>571</th>\n",
       "      <td>znamenskoye</td>\n",
       "      <td>57.1281</td>\n",
       "      <td>73.8282</td>\n",
       "      <td>66.45</td>\n",
       "      <td>73</td>\n",
       "      <td>63</td>\n",
       "      <td>7.70</td>\n",
       "      <td>RU</td>\n",
       "      <td>1628050809</td>\n",
       "    </tr>\n",
       "    <tr>\n",
       "      <th>572</th>\n",
       "      <td>shambu</td>\n",
       "      <td>9.5667</td>\n",
       "      <td>37.1000</td>\n",
       "      <td>48.88</td>\n",
       "      <td>93</td>\n",
       "      <td>82</td>\n",
       "      <td>2.42</td>\n",
       "      <td>ET</td>\n",
       "      <td>1628050809</td>\n",
       "    </tr>\n",
       "    <tr>\n",
       "      <th>573</th>\n",
       "      <td>aranos</td>\n",
       "      <td>-24.1333</td>\n",
       "      <td>19.1167</td>\n",
       "      <td>52.84</td>\n",
       "      <td>32</td>\n",
       "      <td>12</td>\n",
       "      <td>12.93</td>\n",
       "      <td>NA</td>\n",
       "      <td>1628050809</td>\n",
       "    </tr>\n",
       "  </tbody>\n",
       "</table>\n",
       "<p>574 rows × 9 columns</p>\n",
       "</div>"
      ],
      "text/plain": [
       "       City Name      Lat       Lng  Max Temp  Humidity  Clouds   Wind  \\\n",
       "0        fomboni -12.2800   43.7425     75.67        73       0  13.49   \n",
       "1      cape town -33.9258   18.4232     56.10        85       0   1.99   \n",
       "2         turtas  58.9417   69.1325     69.01        63       0   4.68   \n",
       "3        aksarka  66.5606   67.7975     65.43        60       0   5.19   \n",
       "4       cherskiy  68.7500  161.3000     41.56        89     100   8.30   \n",
       "..           ...      ...       ...       ...       ...     ...    ...   \n",
       "569   hulyaypole  47.6653   36.2578     67.28        68      99   5.44   \n",
       "570        ranot   7.7777  100.3213     87.91        62     100  19.55   \n",
       "571  znamenskoye  57.1281   73.8282     66.45        73      63   7.70   \n",
       "572       shambu   9.5667   37.1000     48.88        93      82   2.42   \n",
       "573       aranos -24.1333   19.1167     52.84        32      12  12.93   \n",
       "\n",
       "    Country        Date  \n",
       "0        KM  1628050559  \n",
       "1        ZA  1628050559  \n",
       "2        RU  1628050559  \n",
       "3        RU  1628050560  \n",
       "4        RU  1628050560  \n",
       "..      ...         ...  \n",
       "569      UA  1628050808  \n",
       "570      TH  1628050638  \n",
       "571      RU  1628050809  \n",
       "572      ET  1628050809  \n",
       "573      NA  1628050809  \n",
       "\n",
       "[574 rows x 9 columns]"
      ]
     },
     "execution_count": 6,
     "metadata": {},
     "output_type": "execute_result"
    }
   ],
   "source": [
    "city_data_df = pd.DataFrame(city_data) \n",
    "city_data_df.to_csv('city_data_df.csv', index=False, header=True)\n",
    "city_data_df\n",
    "              "
   ]
  },
  {
   "cell_type": "code",
   "execution_count": 7,
   "metadata": {},
   "outputs": [
    {
     "data": {
      "text/html": [
       "<div>\n",
       "<style scoped>\n",
       "    .dataframe tbody tr th:only-of-type {\n",
       "        vertical-align: middle;\n",
       "    }\n",
       "\n",
       "    .dataframe tbody tr th {\n",
       "        vertical-align: top;\n",
       "    }\n",
       "\n",
       "    .dataframe thead th {\n",
       "        text-align: right;\n",
       "    }\n",
       "</style>\n",
       "<table border=\"1\" class=\"dataframe\">\n",
       "  <thead>\n",
       "    <tr style=\"text-align: right;\">\n",
       "      <th></th>\n",
       "      <th>Lat</th>\n",
       "      <th>Lng</th>\n",
       "      <th>Max Temp</th>\n",
       "      <th>Humidity</th>\n",
       "      <th>Clouds</th>\n",
       "      <th>Wind</th>\n",
       "      <th>Date</th>\n",
       "    </tr>\n",
       "  </thead>\n",
       "  <tbody>\n",
       "    <tr>\n",
       "      <th>count</th>\n",
       "      <td>574.000000</td>\n",
       "      <td>574.000000</td>\n",
       "      <td>574.000000</td>\n",
       "      <td>574.000000</td>\n",
       "      <td>574.000000</td>\n",
       "      <td>574.000000</td>\n",
       "      <td>5.740000e+02</td>\n",
       "    </tr>\n",
       "    <tr>\n",
       "      <th>mean</th>\n",
       "      <td>20.452188</td>\n",
       "      <td>20.035883</td>\n",
       "      <td>68.719129</td>\n",
       "      <td>70.024390</td>\n",
       "      <td>55.602787</td>\n",
       "      <td>7.342892</td>\n",
       "      <td>1.628051e+09</td>\n",
       "    </tr>\n",
       "    <tr>\n",
       "      <th>std</th>\n",
       "      <td>33.994528</td>\n",
       "      <td>89.342235</td>\n",
       "      <td>13.962378</td>\n",
       "      <td>20.931104</td>\n",
       "      <td>39.237840</td>\n",
       "      <td>5.520861</td>\n",
       "      <td>8.674856e+01</td>\n",
       "    </tr>\n",
       "    <tr>\n",
       "      <th>min</th>\n",
       "      <td>-54.800000</td>\n",
       "      <td>-179.166700</td>\n",
       "      <td>30.040000</td>\n",
       "      <td>10.000000</td>\n",
       "      <td>0.000000</td>\n",
       "      <td>0.000000</td>\n",
       "      <td>1.628050e+09</td>\n",
       "    </tr>\n",
       "    <tr>\n",
       "      <th>25%</th>\n",
       "      <td>-8.466700</td>\n",
       "      <td>-59.529150</td>\n",
       "      <td>58.107500</td>\n",
       "      <td>58.000000</td>\n",
       "      <td>13.250000</td>\n",
       "      <td>3.270000</td>\n",
       "      <td>1.628051e+09</td>\n",
       "    </tr>\n",
       "    <tr>\n",
       "      <th>50%</th>\n",
       "      <td>25.021050</td>\n",
       "      <td>24.730700</td>\n",
       "      <td>69.855000</td>\n",
       "      <td>75.000000</td>\n",
       "      <td>69.000000</td>\n",
       "      <td>5.750000</td>\n",
       "      <td>1.628051e+09</td>\n",
       "    </tr>\n",
       "    <tr>\n",
       "      <th>75%</th>\n",
       "      <td>50.100075</td>\n",
       "      <td>100.349575</td>\n",
       "      <td>79.580000</td>\n",
       "      <td>87.000000</td>\n",
       "      <td>96.000000</td>\n",
       "      <td>10.280000</td>\n",
       "      <td>1.628051e+09</td>\n",
       "    </tr>\n",
       "    <tr>\n",
       "      <th>max</th>\n",
       "      <td>78.218600</td>\n",
       "      <td>179.316700</td>\n",
       "      <td>99.300000</td>\n",
       "      <td>100.000000</td>\n",
       "      <td>100.000000</td>\n",
       "      <td>36.480000</td>\n",
       "      <td>1.628051e+09</td>\n",
       "    </tr>\n",
       "  </tbody>\n",
       "</table>\n",
       "</div>"
      ],
      "text/plain": [
       "              Lat         Lng    Max Temp    Humidity      Clouds        Wind  \\\n",
       "count  574.000000  574.000000  574.000000  574.000000  574.000000  574.000000   \n",
       "mean    20.452188   20.035883   68.719129   70.024390   55.602787    7.342892   \n",
       "std     33.994528   89.342235   13.962378   20.931104   39.237840    5.520861   \n",
       "min    -54.800000 -179.166700   30.040000   10.000000    0.000000    0.000000   \n",
       "25%     -8.466700  -59.529150   58.107500   58.000000   13.250000    3.270000   \n",
       "50%     25.021050   24.730700   69.855000   75.000000   69.000000    5.750000   \n",
       "75%     50.100075  100.349575   79.580000   87.000000   96.000000   10.280000   \n",
       "max     78.218600  179.316700   99.300000  100.000000  100.000000   36.480000   \n",
       "\n",
       "               Date  \n",
       "count  5.740000e+02  \n",
       "mean   1.628051e+09  \n",
       "std    8.674856e+01  \n",
       "min    1.628050e+09  \n",
       "25%    1.628051e+09  \n",
       "50%    1.628051e+09  \n",
       "75%    1.628051e+09  \n",
       "max    1.628051e+09  "
      ]
     },
     "execution_count": 7,
     "metadata": {},
     "output_type": "execute_result"
    }
   ],
   "source": [
    "city_data_df.describe()"
   ]
  },
  {
   "cell_type": "markdown",
   "metadata": {},
   "source": [
    "## Inspect the data and remove the cities where the humidity > 100%.\n",
    "----\n",
    "Skip this step if there are no cities that have humidity > 100%. "
   ]
  },
  {
   "cell_type": "code",
   "execution_count": null,
   "metadata": {},
   "outputs": [],
   "source": []
  },
  {
   "cell_type": "code",
   "execution_count": 8,
   "metadata": {},
   "outputs": [],
   "source": [
    "#  Get the indices of cities that have humidity over 100%.\n"
   ]
  },
  {
   "cell_type": "code",
   "execution_count": 9,
   "metadata": {},
   "outputs": [],
   "source": [
    "# Make a new DataFrame equal to the city data to drop all humidity outliers by index.\n",
    "# Passing \"inplace=False\" will make a copy of the city_data DataFrame, which we call \"clean_city_data\".\n"
   ]
  },
  {
   "cell_type": "code",
   "execution_count": null,
   "metadata": {},
   "outputs": [],
   "source": [
    "\n"
   ]
  },
  {
   "cell_type": "markdown",
   "metadata": {},
   "source": [
    "## Plotting the Data\n",
    "* Use proper labeling of the plots using plot titles (including date of analysis) and axes labels.\n",
    "* Save the plotted figures as .pngs."
   ]
  },
  {
   "cell_type": "markdown",
   "metadata": {},
   "source": [
    "## Latitude vs. Temperature Plot"
   ]
  },
  {
   "cell_type": "code",
   "execution_count": null,
   "metadata": {
    "scrolled": true
   },
   "outputs": [],
   "source": []
  },
  {
   "cell_type": "code",
   "execution_count": 10,
   "metadata": {
    "scrolled": true
   },
   "outputs": [
    {
     "data": {
      "image/png": "[encoded data removed]",
      "text/plain": [
       "<Figure size 432x288 with 1 Axes>"
      ]
     },
     "metadata": {
      "needs_background": "light"
     },
     "output_type": "display_data"
    }
   ],
   "source": [
    "plt.scatter(city_data_df['Lat'], city_data_df['Max Temp'])\n",
    "plt.show()"
   ]
  },
  {
   "cell_type": "markdown",
   "metadata": {},
   "source": [
    "## Latitude vs. Humidity Plot"
   ]
  },
  {
   "cell_type": "code",
   "execution_count": 11,
   "metadata": {},
   "outputs": [
    {
     "data": {
      "image/png": "[encoded data removed]",
      "text/plain": [
       "<Figure size 432x288 with 1 Axes>"
      ]
     },
     "metadata": {
      "needs_background": "light"
     },
     "output_type": "display_data"
    }
   ],
   "source": [
    "plt.scatter(city_data_df['Lat'], city_data_df['Humidity'])\n",
    "plt.show()"
   ]
  },
  {
   "cell_type": "markdown",
   "metadata": {},
   "source": [
    "## Latitude vs. Cloudiness Plot"
   ]
  },
  {
   "cell_type": "code",
   "execution_count": 12,
   "metadata": {},
   "outputs": [
    {
     "data": {
      "image/png": "[encoded data removed]",
      "text/plain": [
       "<Figure size 432x288 with 1 Axes>"
      ]
     },
     "metadata": {
      "needs_background": "light"
     },
     "output_type": "display_data"
    }
   ],
   "source": [
    "plt.scatter(city_data_df['Lat'], city_data_df['Clouds'])\n",
    "plt.show()"
   ]
  },
  {
   "cell_type": "markdown",
   "metadata": {},
   "source": [
    "## Latitude vs. Wind Speed Plot"
   ]
  },
  {
   "cell_type": "code",
   "execution_count": 13,
   "metadata": {},
   "outputs": [
    {
     "data": {
      "image/png": "[encoded data removed]",
      "text/plain": [
       "<Figure size 432x288 with 1 Axes>"
      ]
     },
     "metadata": {
      "needs_background": "light"
     },
     "output_type": "display_data"
    }
   ],
   "source": [
    "plt.scatter(city_data_df['Lat'], city_data_df['Wind'])\n",
    "plt.show()"
   ]
  },
  {
   "cell_type": "markdown",
   "metadata": {},
   "source": [
    "## Linear Regression"
   ]
  },
  {
   "cell_type": "code",
   "execution_count": 14,
   "metadata": {},
   "outputs": [],
   "source": [
    "north = city_data_df['Lat']>0\n",
    "south = city_data_df['Lat']<0\n",
    "north_hemi = city_data_df.loc[north]\n",
    "south_hemi = city_data_df.loc[south]"
   ]
  },
  {
   "cell_type": "code",
   "execution_count": null,
   "metadata": {},
   "outputs": [],
   "source": []
  },
  {
   "cell_type": "markdown",
   "metadata": {},
   "source": [
    "####  Northern Hemisphere - Max Temp vs. Latitude Linear Regression"
   ]
  },
  {
   "cell_type": "code",
   "execution_count": 15,
   "metadata": {},
   "outputs": [
    {
     "data": {
      "image/png": "[encoded data removed]",
      "text/plain": [
       "<Figure size 432x288 with 1 Axes>"
      ]
     },
     "metadata": {
      "needs_background": "light"
     },
     "output_type": "display_data"
    }
   ],
   "source": [
    "x_values = north_hemi['Max Temp']\n",
    "y_values = north_hemi['Lat']\n",
    "(slope, intercept, rvalue, pvalue, stderr) = linregress(x_values, y_values)\n",
    "regress_values = x_values * slope + intercept\n",
    "line_eq = \"y = \" + str(round(slope,2)) + \"x + \" + str(round(intercept,2))\n",
    "plt.scatter(x_values,y_values)\n",
    "plt.plot(x_values,regress_values,\"r-\")\n",
    "plt.annotate(line_eq,(40,10),fontsize=10,color=\"red\")\n",
    "plt.title('Max Temp vs Latitude in Northern Hemisphere')\n",
    "plt.xlabel('Max Temp')\n",
    "plt.ylabel('Latitude')\n",
    "plt.savefig('Max Temp vs Latitude in Northern Hemisphere.png')\n",
    "plt.show()"
   ]
  },
  {
   "cell_type": "markdown",
   "metadata": {},
   "source": [
    "####  Southern Hemisphere - Max Temp vs. Latitude Linear Regression"
   ]
  },
  {
   "cell_type": "code",
   "execution_count": 16,
   "metadata": {},
   "outputs": [
    {
     "data": {
      "image/png": "[encoded data removed]",
      "text/plain": [
       "<Figure size 432x288 with 1 Axes>"
      ]
     },
     "metadata": {
      "needs_background": "light"
     },
     "output_type": "display_data"
    }
   ],
   "source": [
    "x_values = south_hemi['Max Temp']\n",
    "y_values = south_hemi['Lat']\n",
    "(slope, intercept, rvalue, pvalue, stderr) = linregress(x_values, y_values)\n",
    "regress_values = x_values * slope + intercept\n",
    "line_eq = \"y = \" + str(round(slope,2)) + \"x + \" + str(round(intercept,2))\n",
    "plt.scatter(x_values,y_values)\n",
    "plt.plot(x_values,regress_values,\"r-\")\n",
    "plt.annotate(line_eq,(70,-50),fontsize=10,color=\"red\")\n",
    "plt.title('Max Temp vs Latitude in Southern Hemisphere')\n",
    "plt.xlabel('Max Temp')\n",
    "plt.ylabel('Latitude')\n",
    "plt.savefig('Max Temp vs Latitude in Southern Hemisphere.png')\n",
    "plt.show()"
   ]
  },
  {
   "cell_type": "markdown",
   "metadata": {},
   "source": [
    "####  Northern Hemisphere - Humidity (%) vs. Latitude Linear Regression"
   ]
  },
  {
   "cell_type": "code",
   "execution_count": 17,
   "metadata": {},
   "outputs": [
    {
     "data": {
      "image/png": "[encoded data removed]",
      "text/plain": [
       "<Figure size 432x288 with 1 Axes>"
      ]
     },
     "metadata": {
      "needs_background": "light"
     },
     "output_type": "display_data"
    }
   ],
   "source": [
    "x_values = north_hemi['Humidity']\n",
    "y_values = north_hemi['Lat']\n",
    "(slope, intercept, rvalue, pvalue, stderr) = linregress(x_values, y_values)\n",
    "regress_values = x_values * slope + intercept\n",
    "line_eq = \"y = \" + str(round(slope,2)) + \"x + \" + str(round(intercept,2))\n",
    "plt.scatter(x_values,y_values)\n",
    "plt.plot(x_values,regress_values,\"r-\")\n",
    "plt.annotate(line_eq,(20,0),fontsize=10,color=\"red\")\n",
    "plt.title('Humidity vs Latitude in Northern Hemisphere')\n",
    "plt.xlabel('Humidity')\n",
    "plt.ylabel('Latitude')\n",
    "plt.savefig('Humidity vs Latitude in Northern Hemisphere.png')\n",
    "plt.show()"
   ]
  },
  {
   "cell_type": "markdown",
   "metadata": {},
   "source": [
    "####  Southern Hemisphere - Humidity (%) vs. Latitude Linear Regression"
   ]
  },
  {
   "cell_type": "code",
   "execution_count": 18,
   "metadata": {},
   "outputs": [
    {
     "data": {
      "image/png": "[encoded data removed]",
      "text/plain": [
       "<Figure size 432x288 with 1 Axes>"
      ]
     },
     "metadata": {
      "needs_background": "light"
     },
     "output_type": "display_data"
    }
   ],
   "source": [
    "x_values = south_hemi['Humidity']\n",
    "y_values = south_hemi['Lat']\n",
    "(slope, intercept, rvalue, pvalue, stderr) = linregress(x_values, y_values)\n",
    "regress_values = x_values * slope + intercept\n",
    "line_eq = \"y = \" + str(round(slope,2)) + \"x + \" + str(round(intercept,2))\n",
    "plt.scatter(x_values,y_values)\n",
    "plt.plot(x_values,regress_values,\"r-\")\n",
    "plt.annotate(line_eq,(75,-50),fontsize=10,color=\"red\")\n",
    "plt.title('Humidity vs Latitude in Southern Hemisphere')\n",
    "plt.xlabel('Humidity')\n",
    "plt.ylabel('Latitude')\n",
    "plt.savefig('Humidity vs Latitude in Southern Hemisphere.png')\n",
    "plt.show()"
   ]
  },
  {
   "cell_type": "markdown",
   "metadata": {},
   "source": [
    "####  Northern Hemisphere - Cloudiness (%) vs. Latitude Linear Regression"
   ]
  },
  {
   "cell_type": "code",
   "execution_count": 19,
   "metadata": {},
   "outputs": [
    {
     "data": {
      "image/png": "[encoded data removed]",
      "text/plain": [
       "<Figure size 432x288 with 1 Axes>"
      ]
     },
     "metadata": {
      "needs_background": "light"
     },
     "output_type": "display_data"
    }
   ],
   "source": [
    "x_values = north_hemi['Clouds']\n",
    "y_values = north_hemi['Lat']\n",
    "(slope, intercept, rvalue, pvalue, stderr) = linregress(x_values, y_values)\n",
    "regress_values = x_values * slope + intercept\n",
    "line_eq = \"y = \" + str(round(slope,2)) + \"x + \" + str(round(intercept,2))\n",
    "plt.scatter(x_values,y_values)\n",
    "plt.plot(x_values,regress_values,\"r-\")\n",
    "plt.annotate(line_eq,(6,10),fontsize=15,color=\"red\")\n",
    "plt.title('Cloudiness vs Latitude in Northern Hemisphere')\n",
    "plt.xlabel('Cloudiness')\n",
    "plt.ylabel('Latitude')\n",
    "plt.savefig('Cloudiness vs Latitude in Northern Hemisphere.png')\n",
    "plt.show()"
   ]
  },
  {
   "cell_type": "markdown",
   "metadata": {},
   "source": [
    "####  Southern Hemisphere - Cloudiness (%) vs. Latitude Linear Regression"
   ]
  },
  {
   "cell_type": "code",
   "execution_count": 20,
   "metadata": {},
   "outputs": [
    {
     "data": {
      "image/png": "[encoded data removed]",
      "text/plain": [
       "<Figure size 432x288 with 1 Axes>"
      ]
     },
     "metadata": {
      "needs_background": "light"
     },
     "output_type": "display_data"
    }
   ],
   "source": [
    "x_values = south_hemi['Clouds']\n",
    "y_values = south_hemi['Lat']\n",
    "(slope, intercept, rvalue, pvalue, stderr) = linregress(x_values, y_values)\n",
    "regress_values = x_values * slope + intercept\n",
    "line_eq = \"y = \" + str(round(slope,2)) + \"x + \" + str(round(intercept,2))\n",
    "plt.scatter(x_values,y_values)\n",
    "plt.plot(x_values,regress_values,\"r-\")\n",
    "plt.annotate(line_eq,(6,10),fontsize=15,color=\"red\")\n",
    "plt.title('Cloudiness vs Latitude in Southern Hemisphere')\n",
    "plt.xlabel('Cloudiness')\n",
    "plt.ylabel('Latitude')\n",
    "plt.savefig('Cloudiness vs Latitude in Southern Hemisphere.png')\n",
    "plt.show()"
   ]
  },
  {
   "cell_type": "markdown",
   "metadata": {},
   "source": [
    "####  Northern Hemisphere - Wind Speed (mph) vs. Latitude Linear Regression"
   ]
  },
  {
   "cell_type": "code",
   "execution_count": 21,
   "metadata": {},
   "outputs": [
    {
     "data": {
      "image/png": "[encoded data removed]",
      "text/plain": [
       "<Figure size 432x288 with 1 Axes>"
      ]
     },
     "metadata": {
      "needs_background": "light"
     },
     "output_type": "display_data"
    }
   ],
   "source": [
    "x_values = north_hemi['Wind']\n",
    "y_values = north_hemi['Lat']\n",
    "(slope, intercept, rvalue, pvalue, stderr) = linregress(x_values, y_values)\n",
    "regress_values = x_values * slope + intercept\n",
    "line_eq = \"y = \" + str(round(slope,2)) + \"x + \" + str(round(intercept,2))\n",
    "plt.scatter(x_values,y_values)\n",
    "plt.plot(x_values,regress_values,\"r-\")\n",
    "plt.annotate(line_eq,(25,0),fontsize=10,color=\"red\")\n",
    "plt.title('Wind Speed vs Latitude in Southern Hemisphere')\n",
    "plt.xlabel('Wind Speed')\n",
    "plt.ylabel('Latitude')\n",
    "plt.savefig('Wind Speed vs Latitude in Southern Hemisphere.png')\n",
    "plt.show()"
   ]
  },
  {
   "cell_type": "markdown",
   "metadata": {},
   "source": [
    "####  Southern Hemisphere - Wind Speed (mph) vs. Latitude Linear Regression"
   ]
  },
  {
   "cell_type": "code",
   "execution_count": 22,
   "metadata": {},
   "outputs": [
    {
     "data": {
      "image/png": "[encoded data removed]",
      "text/plain": [
       "<Figure size 432x288 with 1 Axes>"
      ]
     },
     "metadata": {
      "needs_background": "light"
     },
     "output_type": "display_data"
    }
   ],
   "source": [
    "x_values = south_hemi['Wind']\n",
    "y_values = south_hemi['Lat']\n",
    "(slope, intercept, rvalue, pvalue, stderr) = linregress(x_values, y_values)\n",
    "regress_values = x_values * slope + intercept\n",
    "line_eq = \"y = \" + str(round(slope,2)) + \"x + \" + str(round(intercept,2))\n",
    "plt.scatter(x_values,y_values)\n",
    "plt.plot(x_values,regress_values,\"r-\")\n",
    "plt.annotate(line_eq,(12.5,-55),fontsize=10,color=\"red\")\n",
    "plt.title('Wind Speed vs Latitude in Southern Hemisphere')\n",
    "plt.xlabel('Wind Speed')\n",
    "plt.ylabel('Latitude')\n",
    "plt.savefig('Wind Speed vs Latitude in Southern Hemisphere.png')\n",
    "plt.show()"
   ]
  },
  {
   "cell_type": "code",
   "execution_count": 23,
   "metadata": {},
   "outputs": [
    {
     "data": {
      "text/plain": [
       "'/Users/brianmclane/python-api-challenge/WeatherPy'"
      ]
     },
     "execution_count": 23,
     "metadata": {},
     "output_type": "execute_result"
    }
   ],
   "source": []
  },
  {
   "cell_type": "code",
   "execution_count": null,
   "metadata": {},
   "outputs": [],
   "source": []
  }
 ],
 "metadata": {
  "anaconda-cloud": {},
  "kernel_info": {
   "name": "python3"
  },
  "kernelspec": {
   "display_name": "Python 3",
   "language": "python",
   "name": "python3"
  },
  "language_info": {
   "codemirror_mode": {
    "name": "ipython",
    "version": 3
   },
   "file_extension": ".py",
   "mimetype": "text/x-python",
   "name": "python",
   "nbconvert_exporter": "python",
   "pygments_lexer": "ipython3",
   "version": "3.8.8"
  },
  "latex_envs": {
   "LaTeX_envs_menu_present": true,
   "autoclose": false,
   "autocomplete": true,
   "bibliofile": "biblio.bib",
   "cite_by": "apalike",
   "current_citInitial": 1,
   "eqLabelWithNumbers": true,
   "eqNumInitial": 1,
   "hotkeys": {
    "equation": "Ctrl-E",
    "itemize": "Ctrl-I"
   },
   "labels_anchors": false,
   "latex_user_defs": false,
   "report_style_numbering": false,
   "user_envs_cfg": false
  },
  "nteract": {
   "version": "0.12.3"
  }
 },
 "nbformat": 4,
 "nbformat_minor": 2
}
