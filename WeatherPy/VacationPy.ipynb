{
 "cells": [
  {
   "cell_type": "markdown",
   "metadata": {},
   "source": [
    "# VacationPy\n",
    "----\n",
    "\n",
    "#### Note\n",
    "* Keep an eye on your API usage. Use https://developers.google.com/maps/reporting/gmp-reporting as reference for how to monitor your usage and billing.\n",
    "\n",
    "* Instructions have been included for each segment. You do not have to follow them exactly, but they are included to help you think through the steps."
   ]
  },
  {
   "cell_type": "code",
   "execution_count": 1,
   "metadata": {},
   "outputs": [],
   "source": [
    "# Dependencies and Setup\n",
    "import matplotlib.pyplot as plt\n",
    "import pandas as pd\n",
    "import numpy as np\n",
    "import requests\n",
    "import gmaps\n",
    "import os\n",
    "\n",
    "# Import API key\n",
    "from api_keys import g_key"
   ]
  },
  {
   "cell_type": "markdown",
   "metadata": {},
   "source": [
    "### Store Part I results into DataFrame\n",
    "* Load the csv exported in Part I to a DataFrame"
   ]
  },
  {
   "cell_type": "code",
   "execution_count": 2,
   "metadata": {},
   "outputs": [
    {
     "data": {
      "text/html": [
       "<div>\n",
       "<style scoped>\n",
       "    .dataframe tbody tr th:only-of-type {\n",
       "        vertical-align: middle;\n",
       "    }\n",
       "\n",
       "    .dataframe tbody tr th {\n",
       "        vertical-align: top;\n",
       "    }\n",
       "\n",
       "    .dataframe thead th {\n",
       "        text-align: right;\n",
       "    }\n",
       "</style>\n",
       "<table border=\"1\" class=\"dataframe\">\n",
       "  <thead>\n",
       "    <tr style=\"text-align: right;\">\n",
       "      <th></th>\n",
       "      <th>City Name</th>\n",
       "      <th>Lat</th>\n",
       "      <th>Lng</th>\n",
       "      <th>Max Temp</th>\n",
       "      <th>Humidity</th>\n",
       "      <th>Clouds</th>\n",
       "      <th>Wind</th>\n",
       "      <th>Country</th>\n",
       "      <th>Date</th>\n",
       "    </tr>\n",
       "  </thead>\n",
       "  <tbody>\n",
       "    <tr>\n",
       "      <th>0</th>\n",
       "      <td>hilo</td>\n",
       "      <td>19.7297</td>\n",
       "      <td>-155.0900</td>\n",
       "      <td>83.93</td>\n",
       "      <td>78</td>\n",
       "      <td>40</td>\n",
       "      <td>8.05</td>\n",
       "      <td>US</td>\n",
       "      <td>1628726909</td>\n",
       "    </tr>\n",
       "    <tr>\n",
       "      <th>1</th>\n",
       "      <td>tura</td>\n",
       "      <td>25.5198</td>\n",
       "      <td>90.2201</td>\n",
       "      <td>75.06</td>\n",
       "      <td>98</td>\n",
       "      <td>100</td>\n",
       "      <td>6.82</td>\n",
       "      <td>IN</td>\n",
       "      <td>1628726909</td>\n",
       "    </tr>\n",
       "    <tr>\n",
       "      <th>2</th>\n",
       "      <td>mataura</td>\n",
       "      <td>-46.1927</td>\n",
       "      <td>168.8643</td>\n",
       "      <td>57.47</td>\n",
       "      <td>82</td>\n",
       "      <td>100</td>\n",
       "      <td>6.08</td>\n",
       "      <td>NZ</td>\n",
       "      <td>1628726910</td>\n",
       "    </tr>\n",
       "    <tr>\n",
       "      <th>3</th>\n",
       "      <td>yellowknife</td>\n",
       "      <td>62.4560</td>\n",
       "      <td>-114.3525</td>\n",
       "      <td>56.80</td>\n",
       "      <td>47</td>\n",
       "      <td>100</td>\n",
       "      <td>11.21</td>\n",
       "      <td>CA</td>\n",
       "      <td>1628726910</td>\n",
       "    </tr>\n",
       "    <tr>\n",
       "      <th>4</th>\n",
       "      <td>atuona</td>\n",
       "      <td>-9.8000</td>\n",
       "      <td>-139.0333</td>\n",
       "      <td>77.74</td>\n",
       "      <td>67</td>\n",
       "      <td>28</td>\n",
       "      <td>17.76</td>\n",
       "      <td>PF</td>\n",
       "      <td>1628726911</td>\n",
       "    </tr>\n",
       "    <tr>\n",
       "      <th>...</th>\n",
       "      <td>...</td>\n",
       "      <td>...</td>\n",
       "      <td>...</td>\n",
       "      <td>...</td>\n",
       "      <td>...</td>\n",
       "      <td>...</td>\n",
       "      <td>...</td>\n",
       "      <td>...</td>\n",
       "      <td>...</td>\n",
       "    </tr>\n",
       "    <tr>\n",
       "      <th>559</th>\n",
       "      <td>yanam</td>\n",
       "      <td>16.7333</td>\n",
       "      <td>82.2167</td>\n",
       "      <td>81.73</td>\n",
       "      <td>70</td>\n",
       "      <td>98</td>\n",
       "      <td>5.26</td>\n",
       "      <td>IN</td>\n",
       "      <td>1628727010</td>\n",
       "    </tr>\n",
       "    <tr>\n",
       "      <th>560</th>\n",
       "      <td>choix</td>\n",
       "      <td>26.7092</td>\n",
       "      <td>-108.3219</td>\n",
       "      <td>89.94</td>\n",
       "      <td>56</td>\n",
       "      <td>80</td>\n",
       "      <td>3.56</td>\n",
       "      <td>MX</td>\n",
       "      <td>1628727171</td>\n",
       "    </tr>\n",
       "    <tr>\n",
       "      <th>561</th>\n",
       "      <td>olivenza</td>\n",
       "      <td>38.6832</td>\n",
       "      <td>-7.1030</td>\n",
       "      <td>83.21</td>\n",
       "      <td>47</td>\n",
       "      <td>0</td>\n",
       "      <td>4.18</td>\n",
       "      <td>ES</td>\n",
       "      <td>1628727172</td>\n",
       "    </tr>\n",
       "    <tr>\n",
       "      <th>562</th>\n",
       "      <td>zhezkazgan</td>\n",
       "      <td>47.8043</td>\n",
       "      <td>67.7144</td>\n",
       "      <td>63.37</td>\n",
       "      <td>55</td>\n",
       "      <td>18</td>\n",
       "      <td>11.61</td>\n",
       "      <td>KZ</td>\n",
       "      <td>1628727134</td>\n",
       "    </tr>\n",
       "    <tr>\n",
       "      <th>563</th>\n",
       "      <td>bantry</td>\n",
       "      <td>51.6833</td>\n",
       "      <td>-9.4500</td>\n",
       "      <td>53.08</td>\n",
       "      <td>84</td>\n",
       "      <td>51</td>\n",
       "      <td>11.59</td>\n",
       "      <td>IE</td>\n",
       "      <td>1628727172</td>\n",
       "    </tr>\n",
       "  </tbody>\n",
       "</table>\n",
       "<p>564 rows × 9 columns</p>\n",
       "</div>"
      ],
      "text/plain": [
       "       City Name      Lat       Lng  Max Temp  Humidity  Clouds   Wind  \\\n",
       "0           hilo  19.7297 -155.0900     83.93        78      40   8.05   \n",
       "1           tura  25.5198   90.2201     75.06        98     100   6.82   \n",
       "2        mataura -46.1927  168.8643     57.47        82     100   6.08   \n",
       "3    yellowknife  62.4560 -114.3525     56.80        47     100  11.21   \n",
       "4         atuona  -9.8000 -139.0333     77.74        67      28  17.76   \n",
       "..           ...      ...       ...       ...       ...     ...    ...   \n",
       "559        yanam  16.7333   82.2167     81.73        70      98   5.26   \n",
       "560        choix  26.7092 -108.3219     89.94        56      80   3.56   \n",
       "561     olivenza  38.6832   -7.1030     83.21        47       0   4.18   \n",
       "562   zhezkazgan  47.8043   67.7144     63.37        55      18  11.61   \n",
       "563       bantry  51.6833   -9.4500     53.08        84      51  11.59   \n",
       "\n",
       "    Country        Date  \n",
       "0        US  1628726909  \n",
       "1        IN  1628726909  \n",
       "2        NZ  1628726910  \n",
       "3        CA  1628726910  \n",
       "4        PF  1628726911  \n",
       "..      ...         ...  \n",
       "559      IN  1628727010  \n",
       "560      MX  1628727171  \n",
       "561      ES  1628727172  \n",
       "562      KZ  1628727134  \n",
       "563      IE  1628727172  \n",
       "\n",
       "[564 rows x 9 columns]"
      ]
     },
     "execution_count": 2,
     "metadata": {},
     "output_type": "execute_result"
    }
   ],
   "source": [
    "file = 'city_data_df.csv'\n",
    "data = pd.read_csv(file)\n",
    "data\n"
   ]
  },
  {
   "cell_type": "markdown",
   "metadata": {},
   "source": [
    "### Humidity Heatmap\n",
    "* Configure gmaps.\n",
    "* Use the Lat and Lng as locations and Humidity as the weight.\n",
    "* Add Heatmap layer to map."
   ]
  },
  {
   "cell_type": "code",
   "execution_count": 3,
   "metadata": {},
   "outputs": [
    {
     "data": {
      "application/vnd.jupyter.widget-view+json": {
       "model_id": "49d98474228b418f9e7199c8f3fe49c7",
       "version_major": 2,
       "version_minor": 0
      },
      "text/plain": [
       "Figure(layout=FigureLayout(height='420px'))"
      ]
     },
     "metadata": {},
     "output_type": "display_data"
    }
   ],
   "source": [
    "gmaps.configure(api_key=g_key)\n",
    "fig = gmaps.figure()\n",
    "fig"
   ]
  },
  {
   "cell_type": "code",
   "execution_count": 4,
   "metadata": {},
   "outputs": [
    {
     "data": {
      "application/vnd.jupyter.widget-view+json": {
       "model_id": "4c71e6b763754324846f92c8a6cc4856",
       "version_major": 2,
       "version_minor": 0
      },
      "text/plain": [
       "Figure(layout=FigureLayout(height='420px'))"
      ]
     },
     "metadata": {},
     "output_type": "display_data"
    }
   ],
   "source": [
    "gmaps.configure(api_key=g_key)\n",
    "locations = data[['Lat', 'Lng']]\n",
    "humidity = data['Humidity']\n",
    "fig = gmaps.figure()\n",
    "heat_layer = gmaps.heatmap_layer(locations, weights = humidity, \n",
    "                                 dissipating=False, max_intensity=100,\n",
    "                                point_radius=3)\n",
    "fig.add_layer(heat_layer)\n",
    "fig"
   ]
  },
  {
   "cell_type": "markdown",
   "metadata": {},
   "source": [
    "### Create new DataFrame fitting weather criteria\n",
    "* Narrow down the cities to fit weather conditions.\n",
    "* Drop any rows will null values."
   ]
  },
  {
   "cell_type": "code",
   "execution_count": 5,
   "metadata": {},
   "outputs": [],
   "source": [
    "hotel_df = data.loc[(data['Max Temp'] < 80) & (data['Max Temp'] > 70) & (data['Wind'] < 10) & (data['Clouds'] == 0)].copy()"
   ]
  },
  {
   "cell_type": "markdown",
   "metadata": {},
   "source": [
    "### Hotel Map\n",
    "* Store into variable named `hotel_df`.\n",
    "* Add a \"Hotel Name\" column to the DataFrame.\n",
    "* Set parameters to search for hotels with 5000 meters.\n",
    "* Hit the Google Places API for each city's coordinates.\n",
    "* Store the first Hotel result into the DataFrame.\n",
    "* Plot markers on top of the heatmap."
   ]
  },
  {
   "cell_type": "code",
   "execution_count": 6,
   "metadata": {},
   "outputs": [
    {
     "data": {
      "text/html": [
       "<div>\n",
       "<style scoped>\n",
       "    .dataframe tbody tr th:only-of-type {\n",
       "        vertical-align: middle;\n",
       "    }\n",
       "\n",
       "    .dataframe tbody tr th {\n",
       "        vertical-align: top;\n",
       "    }\n",
       "\n",
       "    .dataframe thead th {\n",
       "        text-align: right;\n",
       "    }\n",
       "</style>\n",
       "<table border=\"1\" class=\"dataframe\">\n",
       "  <thead>\n",
       "    <tr style=\"text-align: right;\">\n",
       "      <th></th>\n",
       "      <th>City</th>\n",
       "      <th>Lat</th>\n",
       "      <th>Lng</th>\n",
       "      <th>Max Temp</th>\n",
       "      <th>Humidity</th>\n",
       "      <th>Clouds</th>\n",
       "      <th>Wind</th>\n",
       "      <th>Country</th>\n",
       "      <th>Date</th>\n",
       "      <th>Hotel Name</th>\n",
       "    </tr>\n",
       "  </thead>\n",
       "  <tbody>\n",
       "    <tr>\n",
       "      <th>8</th>\n",
       "      <td>melfi</td>\n",
       "      <td>40.9965</td>\n",
       "      <td>15.6514</td>\n",
       "      <td>73.22</td>\n",
       "      <td>53</td>\n",
       "      <td>0</td>\n",
       "      <td>3.18</td>\n",
       "      <td>IT</td>\n",
       "      <td>1628726912</td>\n",
       "      <td>Melfi</td>\n",
       "    </tr>\n",
       "    <tr>\n",
       "      <th>164</th>\n",
       "      <td>cayenne</td>\n",
       "      <td>4.9333</td>\n",
       "      <td>-52.3333</td>\n",
       "      <td>78.10</td>\n",
       "      <td>86</td>\n",
       "      <td>0</td>\n",
       "      <td>0.00</td>\n",
       "      <td>GF</td>\n",
       "      <td>1628726679</td>\n",
       "      <td>Cayenne</td>\n",
       "    </tr>\n",
       "    <tr>\n",
       "      <th>275</th>\n",
       "      <td>saint-francois</td>\n",
       "      <td>46.4154</td>\n",
       "      <td>3.9054</td>\n",
       "      <td>70.18</td>\n",
       "      <td>94</td>\n",
       "      <td>0</td>\n",
       "      <td>4.61</td>\n",
       "      <td>FR</td>\n",
       "      <td>1628727027</td>\n",
       "      <td>Molinet</td>\n",
       "    </tr>\n",
       "    <tr>\n",
       "      <th>303</th>\n",
       "      <td>hami</td>\n",
       "      <td>42.8000</td>\n",
       "      <td>93.4500</td>\n",
       "      <td>77.88</td>\n",
       "      <td>33</td>\n",
       "      <td>0</td>\n",
       "      <td>6.60</td>\n",
       "      <td>CN</td>\n",
       "      <td>1628727039</td>\n",
       "      <td>Hami</td>\n",
       "    </tr>\n",
       "    <tr>\n",
       "      <th>516</th>\n",
       "      <td>bucak</td>\n",
       "      <td>37.4592</td>\n",
       "      <td>30.5950</td>\n",
       "      <td>77.04</td>\n",
       "      <td>54</td>\n",
       "      <td>0</td>\n",
       "      <td>7.29</td>\n",
       "      <td>TR</td>\n",
       "      <td>1628727150</td>\n",
       "      <td>Bucak</td>\n",
       "    </tr>\n",
       "  </tbody>\n",
       "</table>\n",
       "</div>"
      ],
      "text/plain": [
       "               City      Lat      Lng  Max Temp  Humidity  Clouds  Wind  \\\n",
       "8             melfi  40.9965  15.6514     73.22        53       0  3.18   \n",
       "164         cayenne   4.9333 -52.3333     78.10        86       0  0.00   \n",
       "275  saint-francois  46.4154   3.9054     70.18        94       0  4.61   \n",
       "303            hami  42.8000  93.4500     77.88        33       0  6.60   \n",
       "516           bucak  37.4592  30.5950     77.04        54       0  7.29   \n",
       "\n",
       "    Country        Date Hotel Name  \n",
       "8        IT  1628726912      Melfi  \n",
       "164      GF  1628726679    Cayenne  \n",
       "275      FR  1628727027    Molinet  \n",
       "303      CN  1628727039       Hami  \n",
       "516      TR  1628727150      Bucak  "
      ]
     },
     "execution_count": 6,
     "metadata": {},
     "output_type": "execute_result"
    }
   ],
   "source": [
    "\n",
    "hotel_df['Hotel Name'] = ''\n",
    "\n",
    "base_url = \"https://maps.googleapis.com/maps/api/place/nearbysearch/json\"\n",
    "params = {\n",
    "        \"radius\": 5000,\n",
    "        \"type\": \"hotel\",\n",
    "        \"key\": g_key}\n",
    "\n",
    "for index, row in hotel_df.iterrows():\n",
    "    \n",
    "    params['location'] = f\"{row['Lat']}, {row['Lng']}\"\n",
    "\n",
    "\n",
    "    response = requests.get(base_url ,params=params)\n",
    "    results = response.json()\n",
    "    \n",
    "    hotel_df.loc[index, 'Hotel Name']= results['results'][0]['name']\n",
    "hotel_df.rename(columns={'City Name': 'City'}, inplace=True)\n",
    "\n",
    "hotel_df"
   ]
  },
  {
   "cell_type": "code",
   "execution_count": 7,
   "metadata": {},
   "outputs": [],
   "source": [
    "# NOTE: Do not change any of the code in this cell\n",
    "\n",
    "# Using the template add the hotel marks to the heatmap\n",
    "info_box_template = \"\"\"\n",
    "<dl>\n",
    "<dt>Name</dt><dd>{Hotel Name}</dd>\n",
    "<dt>City</dt><dd>{City}</dd>\n",
    "<dt>Country</dt><dd>{Country}</dd>\n",
    "</dl>\n",
    "\"\"\"\n",
    "# Store the DataFrame Row\n",
    "# NOTE: be sure to update with your DataFrame name\n",
    "hotel_info = [info_box_template.format(**row) for index, row in hotel_df.iterrows()]\n",
    "locations = hotel_df[[\"Lat\", \"Lng\"]]"
   ]
  },
  {
   "cell_type": "code",
   "execution_count": null,
   "metadata": {},
   "outputs": [],
   "source": [
    "\n",
    "\n"
   ]
  },
  {
   "cell_type": "code",
   "execution_count": null,
   "metadata": {},
   "outputs": [],
   "source": []
  },
  {
   "cell_type": "code",
   "execution_count": 8,
   "metadata": {},
   "outputs": [
    {
     "data": {
      "application/vnd.jupyter.widget-view+json": {
       "model_id": "4c71e6b763754324846f92c8a6cc4856",
       "version_major": 2,
       "version_minor": 0
      },
      "text/plain": [
       "Figure(layout=FigureLayout(height='420px'))"
      ]
     },
     "metadata": {},
     "output_type": "display_data"
    }
   ],
   "source": [
    "# Add marker layer ontop of heat map\n",
    "markers = gmaps.marker_layer(locations)\n",
    "fig.add_layer(markers)\n",
    "# Display figure\n",
    "fig"
   ]
  },
  {
   "cell_type": "code",
   "execution_count": null,
   "metadata": {},
   "outputs": [],
   "source": []
  },
  {
   "cell_type": "code",
   "execution_count": null,
   "metadata": {},
   "outputs": [],
   "source": []
  }
 ],
 "metadata": {
  "kernelspec": {
   "display_name": "Brian",
   "language": "python",
   "name": "brian"
  },
  "language_info": {
   "codemirror_mode": {
    "name": "ipython",
    "version": 3
   },
   "file_extension": ".py",
   "mimetype": "text/x-python",
   "name": "python",
   "nbconvert_exporter": "python",
   "pygments_lexer": "ipython3",
   "version": "3.7.11"
  },
  "latex_envs": {
   "LaTeX_envs_menu_present": true,
   "autoclose": false,
   "autocomplete": true,
   "bibliofile": "biblio.bib",
   "cite_by": "apalike",
   "current_citInitial": 1,
   "eqLabelWithNumbers": true,
   "eqNumInitial": 1,
   "hotkeys": {
    "equation": "Ctrl-E",
    "itemize": "Ctrl-I"
   },
   "labels_anchors": false,
   "latex_user_defs": false,
   "report_style_numbering": false,
   "user_envs_cfg": false
  }
 },
 "nbformat": 4,
 "nbformat_minor": 4
}
