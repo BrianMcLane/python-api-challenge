{
 "cells": [
  {
   "cell_type": "markdown",
   "metadata": {},
   "source": [
    "# VacationPy\n",
    "----\n",
    "\n",
    "#### Note\n",
    "* Keep an eye on your API usage. Use https://developers.google.com/maps/reporting/gmp-reporting as reference for how to monitor your usage and billing.\n",
    "\n",
    "* Instructions have been included for each segment. You do not have to follow them exactly, but they are included to help you think through the steps."
   ]
  },
  {
   "cell_type": "code",
   "execution_count": 1,
   "metadata": {},
   "outputs": [],
   "source": [
    "# Dependencies and Setup\n",
    "import matplotlib.pyplot as plt\n",
    "import pandas as pd\n",
    "import numpy as np\n",
    "import requests\n",
    "import gmaps\n",
    "import os\n",
    "\n",
    "# Import API key\n",
    "from api_keys import g_key"
   ]
  },
  {
   "cell_type": "markdown",
   "metadata": {},
   "source": [
    "### Store Part I results into DataFrame\n",
    "* Load the csv exported in Part I to a DataFrame"
   ]
  },
  {
   "cell_type": "code",
   "execution_count": 2,
   "metadata": {},
   "outputs": [
    {
     "data": {
      "text/html": [
       "<div>\n",
       "<style scoped>\n",
       "    .dataframe tbody tr th:only-of-type {\n",
       "        vertical-align: middle;\n",
       "    }\n",
       "\n",
       "    .dataframe tbody tr th {\n",
       "        vertical-align: top;\n",
       "    }\n",
       "\n",
       "    .dataframe thead th {\n",
       "        text-align: right;\n",
       "    }\n",
       "</style>\n",
       "<table border=\"1\" class=\"dataframe\">\n",
       "  <thead>\n",
       "    <tr style=\"text-align: right;\">\n",
       "      <th></th>\n",
       "      <th>City Name</th>\n",
       "      <th>Lat</th>\n",
       "      <th>Lng</th>\n",
       "      <th>Max Temp</th>\n",
       "      <th>Humidity</th>\n",
       "      <th>Clouds</th>\n",
       "      <th>Wind</th>\n",
       "      <th>Country</th>\n",
       "      <th>Date</th>\n",
       "    </tr>\n",
       "  </thead>\n",
       "  <tbody>\n",
       "    <tr>\n",
       "      <th>0</th>\n",
       "      <td>mnogovershinnyy</td>\n",
       "      <td>53.9353</td>\n",
       "      <td>139.9242</td>\n",
       "      <td>54.41</td>\n",
       "      <td>90</td>\n",
       "      <td>100</td>\n",
       "      <td>2.53</td>\n",
       "      <td>RU</td>\n",
       "      <td>1628054974</td>\n",
       "    </tr>\n",
       "    <tr>\n",
       "      <th>1</th>\n",
       "      <td>bambous virieux</td>\n",
       "      <td>-20.3428</td>\n",
       "      <td>57.7575</td>\n",
       "      <td>70.21</td>\n",
       "      <td>94</td>\n",
       "      <td>75</td>\n",
       "      <td>6.91</td>\n",
       "      <td>MU</td>\n",
       "      <td>1628054975</td>\n",
       "    </tr>\n",
       "    <tr>\n",
       "      <th>2</th>\n",
       "      <td>kieta</td>\n",
       "      <td>-6.2167</td>\n",
       "      <td>155.6333</td>\n",
       "      <td>82.72</td>\n",
       "      <td>79</td>\n",
       "      <td>32</td>\n",
       "      <td>6.31</td>\n",
       "      <td>PG</td>\n",
       "      <td>1628054975</td>\n",
       "    </tr>\n",
       "    <tr>\n",
       "      <th>3</th>\n",
       "      <td>narsaq</td>\n",
       "      <td>60.9167</td>\n",
       "      <td>-46.0500</td>\n",
       "      <td>44.82</td>\n",
       "      <td>98</td>\n",
       "      <td>100</td>\n",
       "      <td>3.36</td>\n",
       "      <td>GL</td>\n",
       "      <td>1628054976</td>\n",
       "    </tr>\n",
       "    <tr>\n",
       "      <th>4</th>\n",
       "      <td>hermanus</td>\n",
       "      <td>-34.4187</td>\n",
       "      <td>19.2345</td>\n",
       "      <td>51.91</td>\n",
       "      <td>87</td>\n",
       "      <td>60</td>\n",
       "      <td>5.17</td>\n",
       "      <td>ZA</td>\n",
       "      <td>1628054976</td>\n",
       "    </tr>\n",
       "    <tr>\n",
       "      <th>...</th>\n",
       "      <td>...</td>\n",
       "      <td>...</td>\n",
       "      <td>...</td>\n",
       "      <td>...</td>\n",
       "      <td>...</td>\n",
       "      <td>...</td>\n",
       "      <td>...</td>\n",
       "      <td>...</td>\n",
       "      <td>...</td>\n",
       "    </tr>\n",
       "    <tr>\n",
       "      <th>560</th>\n",
       "      <td>sampit</td>\n",
       "      <td>-2.5333</td>\n",
       "      <td>112.9500</td>\n",
       "      <td>91.90</td>\n",
       "      <td>46</td>\n",
       "      <td>95</td>\n",
       "      <td>3.29</td>\n",
       "      <td>ID</td>\n",
       "      <td>1628055246</td>\n",
       "    </tr>\n",
       "    <tr>\n",
       "      <th>561</th>\n",
       "      <td>homer</td>\n",
       "      <td>59.6425</td>\n",
       "      <td>-151.5483</td>\n",
       "      <td>62.49</td>\n",
       "      <td>75</td>\n",
       "      <td>1</td>\n",
       "      <td>6.91</td>\n",
       "      <td>US</td>\n",
       "      <td>1628055246</td>\n",
       "    </tr>\n",
       "    <tr>\n",
       "      <th>562</th>\n",
       "      <td>seddon</td>\n",
       "      <td>-37.8068</td>\n",
       "      <td>144.8916</td>\n",
       "      <td>60.08</td>\n",
       "      <td>76</td>\n",
       "      <td>90</td>\n",
       "      <td>7.00</td>\n",
       "      <td>AU</td>\n",
       "      <td>1628055246</td>\n",
       "    </tr>\n",
       "    <tr>\n",
       "      <th>563</th>\n",
       "      <td>belmonte</td>\n",
       "      <td>-15.8631</td>\n",
       "      <td>-38.8828</td>\n",
       "      <td>66.70</td>\n",
       "      <td>81</td>\n",
       "      <td>43</td>\n",
       "      <td>7.61</td>\n",
       "      <td>BR</td>\n",
       "      <td>1628055247</td>\n",
       "    </tr>\n",
       "    <tr>\n",
       "      <th>564</th>\n",
       "      <td>aktash</td>\n",
       "      <td>50.3000</td>\n",
       "      <td>87.7333</td>\n",
       "      <td>61.92</td>\n",
       "      <td>42</td>\n",
       "      <td>76</td>\n",
       "      <td>6.82</td>\n",
       "      <td>RU</td>\n",
       "      <td>1628055247</td>\n",
       "    </tr>\n",
       "  </tbody>\n",
       "</table>\n",
       "<p>565 rows × 9 columns</p>\n",
       "</div>"
      ],
      "text/plain": [
       "           City Name      Lat       Lng  Max Temp  Humidity  Clouds  Wind  \\\n",
       "0    mnogovershinnyy  53.9353  139.9242     54.41        90     100  2.53   \n",
       "1    bambous virieux -20.3428   57.7575     70.21        94      75  6.91   \n",
       "2              kieta  -6.2167  155.6333     82.72        79      32  6.31   \n",
       "3             narsaq  60.9167  -46.0500     44.82        98     100  3.36   \n",
       "4           hermanus -34.4187   19.2345     51.91        87      60  5.17   \n",
       "..               ...      ...       ...       ...       ...     ...   ...   \n",
       "560           sampit  -2.5333  112.9500     91.90        46      95  3.29   \n",
       "561            homer  59.6425 -151.5483     62.49        75       1  6.91   \n",
       "562           seddon -37.8068  144.8916     60.08        76      90  7.00   \n",
       "563         belmonte -15.8631  -38.8828     66.70        81      43  7.61   \n",
       "564           aktash  50.3000   87.7333     61.92        42      76  6.82   \n",
       "\n",
       "    Country        Date  \n",
       "0        RU  1628054974  \n",
       "1        MU  1628054975  \n",
       "2        PG  1628054975  \n",
       "3        GL  1628054976  \n",
       "4        ZA  1628054976  \n",
       "..      ...         ...  \n",
       "560      ID  1628055246  \n",
       "561      US  1628055246  \n",
       "562      AU  1628055246  \n",
       "563      BR  1628055247  \n",
       "564      RU  1628055247  \n",
       "\n",
       "[565 rows x 9 columns]"
      ]
     },
     "execution_count": 2,
     "metadata": {},
     "output_type": "execute_result"
    }
   ],
   "source": [
    "file = 'city_data_df.csv'\n",
    "data = pd.read_csv(file)\n",
    "data\n"
   ]
  },
  {
   "cell_type": "markdown",
   "metadata": {},
   "source": [
    "### Humidity Heatmap\n",
    "* Configure gmaps.\n",
    "* Use the Lat and Lng as locations and Humidity as the weight.\n",
    "* Add Heatmap layer to map."
   ]
  },
  {
   "cell_type": "code",
   "execution_count": 3,
   "metadata": {},
   "outputs": [
    {
     "data": {
      "application/vnd.jupyter.widget-view+json": {
       "model_id": "5e3071fe8fa14c548aba9c84d2b16b18",
       "version_major": 2,
       "version_minor": 0
      },
      "text/plain": [
       "Figure(layout=FigureLayout(height='420px'))"
      ]
     },
     "metadata": {},
     "output_type": "display_data"
    }
   ],
   "source": [
    "gmaps.configure(api_key=g_key)\n",
    "fig = gmaps.figure()\n",
    "fig"
   ]
  },
  {
   "cell_type": "code",
   "execution_count": 4,
   "metadata": {},
   "outputs": [
    {
     "data": {
      "application/vnd.jupyter.widget-view+json": {
       "model_id": "e825367d6ba34d459f4dea42932dea7d",
       "version_major": 2,
       "version_minor": 0
      },
      "text/plain": [
       "Figure(layout=FigureLayout(height='420px'))"
      ]
     },
     "metadata": {},
     "output_type": "display_data"
    }
   ],
   "source": [
    "gmaps.configure(api_key=g_key)\n",
    "locations = data[['Lat', 'Lng']]\n",
    "humidity = data['Humidity']\n",
    "fig = gmaps.figure()\n",
    "heat_layer = gmaps.heatmap_layer(locations, weights = humidity, \n",
    "                                 dissipating=False, max_intensity=100,\n",
    "                                point_radius=3)\n",
    "fig.add_layer(heat_layer)\n",
    "fig"
   ]
  },
  {
   "cell_type": "markdown",
   "metadata": {},
   "source": [
    "### Create new DataFrame fitting weather criteria\n",
    "* Narrow down the cities to fit weather conditions.\n",
    "* Drop any rows will null values."
   ]
  },
  {
   "cell_type": "code",
   "execution_count": 5,
   "metadata": {},
   "outputs": [],
   "source": [
    "hotel_df = data.loc[(data['Max Temp'] < 80) & (data['Max Temp'] > 70) & (data['Wind'] < 10) & (data['Clouds'] == 0)].copy()"
   ]
  },
  {
   "cell_type": "markdown",
   "metadata": {},
   "source": [
    "### Hotel Map\n",
    "* Store into variable named `hotel_df`.\n",
    "* Add a \"Hotel Name\" column to the DataFrame.\n",
    "* Set parameters to search for hotels with 5000 meters.\n",
    "* Hit the Google Places API for each city's coordinates.\n",
    "* Store the first Hotel result into the DataFrame.\n",
    "* Plot markers on top of the heatmap."
   ]
  },
  {
   "cell_type": "code",
   "execution_count": 6,
   "metadata": {},
   "outputs": [
    {
     "data": {
      "text/html": [
       "<div>\n",
       "<style scoped>\n",
       "    .dataframe tbody tr th:only-of-type {\n",
       "        vertical-align: middle;\n",
       "    }\n",
       "\n",
       "    .dataframe tbody tr th {\n",
       "        vertical-align: top;\n",
       "    }\n",
       "\n",
       "    .dataframe thead th {\n",
       "        text-align: right;\n",
       "    }\n",
       "</style>\n",
       "<table border=\"1\" class=\"dataframe\">\n",
       "  <thead>\n",
       "    <tr style=\"text-align: right;\">\n",
       "      <th></th>\n",
       "      <th>City</th>\n",
       "      <th>Lat</th>\n",
       "      <th>Lng</th>\n",
       "      <th>Max Temp</th>\n",
       "      <th>Humidity</th>\n",
       "      <th>Clouds</th>\n",
       "      <th>Wind</th>\n",
       "      <th>Country</th>\n",
       "      <th>Date</th>\n",
       "      <th>Hotel Name</th>\n",
       "    </tr>\n",
       "  </thead>\n",
       "  <tbody>\n",
       "    <tr>\n",
       "      <th>104</th>\n",
       "      <td>kabinda</td>\n",
       "      <td>-6.1333</td>\n",
       "      <td>24.4833</td>\n",
       "      <td>74.17</td>\n",
       "      <td>33</td>\n",
       "      <td>0</td>\n",
       "      <td>6.20</td>\n",
       "      <td>CD</td>\n",
       "      <td>1628055037</td>\n",
       "      <td>Kabinda</td>\n",
       "    </tr>\n",
       "    <tr>\n",
       "      <th>192</th>\n",
       "      <td>eskisehir</td>\n",
       "      <td>39.7767</td>\n",
       "      <td>30.5206</td>\n",
       "      <td>71.47</td>\n",
       "      <td>64</td>\n",
       "      <td>0</td>\n",
       "      <td>8.05</td>\n",
       "      <td>TR</td>\n",
       "      <td>1628055081</td>\n",
       "      <td>Eskişehir</td>\n",
       "    </tr>\n",
       "    <tr>\n",
       "      <th>345</th>\n",
       "      <td>moroni</td>\n",
       "      <td>-11.7022</td>\n",
       "      <td>43.2551</td>\n",
       "      <td>75.96</td>\n",
       "      <td>63</td>\n",
       "      <td>0</td>\n",
       "      <td>9.95</td>\n",
       "      <td>KM</td>\n",
       "      <td>1628055147</td>\n",
       "      <td>Moroni</td>\n",
       "    </tr>\n",
       "    <tr>\n",
       "      <th>418</th>\n",
       "      <td>marovoay</td>\n",
       "      <td>-16.1000</td>\n",
       "      <td>46.6333</td>\n",
       "      <td>73.54</td>\n",
       "      <td>45</td>\n",
       "      <td>0</td>\n",
       "      <td>9.10</td>\n",
       "      <td>MG</td>\n",
       "      <td>1628055180</td>\n",
       "      <td>Marovoay</td>\n",
       "    </tr>\n",
       "    <tr>\n",
       "      <th>518</th>\n",
       "      <td>orumiyeh</td>\n",
       "      <td>37.5527</td>\n",
       "      <td>45.0761</td>\n",
       "      <td>76.55</td>\n",
       "      <td>41</td>\n",
       "      <td>0</td>\n",
       "      <td>4.61</td>\n",
       "      <td>IR</td>\n",
       "      <td>1628055227</td>\n",
       "      <td>Urmia</td>\n",
       "    </tr>\n",
       "  </tbody>\n",
       "</table>\n",
       "</div>"
      ],
      "text/plain": [
       "          City      Lat      Lng  Max Temp  Humidity  Clouds  Wind Country  \\\n",
       "104    kabinda  -6.1333  24.4833     74.17        33       0  6.20      CD   \n",
       "192  eskisehir  39.7767  30.5206     71.47        64       0  8.05      TR   \n",
       "345     moroni -11.7022  43.2551     75.96        63       0  9.95      KM   \n",
       "418   marovoay -16.1000  46.6333     73.54        45       0  9.10      MG   \n",
       "518   orumiyeh  37.5527  45.0761     76.55        41       0  4.61      IR   \n",
       "\n",
       "           Date Hotel Name  \n",
       "104  1628055037    Kabinda  \n",
       "192  1628055081  Eskişehir  \n",
       "345  1628055147     Moroni  \n",
       "418  1628055180   Marovoay  \n",
       "518  1628055227      Urmia  "
      ]
     },
     "execution_count": 6,
     "metadata": {},
     "output_type": "execute_result"
    }
   ],
   "source": [
    "\n",
    "hotel_df['Hotel Name'] = ''\n",
    "\n",
    "base_url = \"https://maps.googleapis.com/maps/api/place/nearbysearch/json\"\n",
    "params = {\n",
    "        \"radius\": 5000,\n",
    "        \"type\": \"hotel\",\n",
    "        \"key\": g_key}\n",
    "\n",
    "for index, row in hotel_df.iterrows():\n",
    "    \n",
    "    params['location'] = f\"{row['Lat']}, {row['Lng']}\"\n",
    "\n",
    "\n",
    "    response = requests.get(base_url ,params=params)\n",
    "    results = response.json()\n",
    "    \n",
    "    hotel_df.loc[index, 'Hotel Name']= results['results'][0]['name']\n",
    "hotel_df.rename(columns={'City Name': 'City'}, inplace=True)\n",
    "\n",
    "hotel_df"
   ]
  },
  {
   "cell_type": "code",
   "execution_count": 7,
   "metadata": {},
   "outputs": [],
   "source": [
    "# NOTE: Do not change any of the code in this cell\n",
    "\n",
    "# Using the template add the hotel marks to the heatmap\n",
    "info_box_template = \"\"\"\n",
    "<dl>\n",
    "<dt>Name</dt><dd>{Hotel Name}</dd>\n",
    "<dt>City</dt><dd>{City}</dd>\n",
    "<dt>Country</dt><dd>{Country}</dd>\n",
    "</dl>\n",
    "\"\"\"\n",
    "# Store the DataFrame Row\n",
    "# NOTE: be sure to update with your DataFrame name\n",
    "hotel_info = [info_box_template.format(**row) for index, row in hotel_df.iterrows()]\n",
    "locations = hotel_df[[\"Lat\", \"Lng\"]]"
   ]
  },
  {
   "cell_type": "code",
   "execution_count": null,
   "metadata": {},
   "outputs": [],
   "source": [
    "\n",
    "\n"
   ]
  },
  {
   "cell_type": "code",
   "execution_count": null,
   "metadata": {},
   "outputs": [],
   "source": []
  },
  {
   "cell_type": "code",
   "execution_count": 8,
   "metadata": {},
   "outputs": [
    {
     "data": {
      "application/vnd.jupyter.widget-view+json": {
       "model_id": "e825367d6ba34d459f4dea42932dea7d",
       "version_major": 2,
       "version_minor": 0
      },
      "text/plain": [
       "Figure(layout=FigureLayout(height='420px'))"
      ]
     },
     "metadata": {},
     "output_type": "display_data"
    }
   ],
   "source": [
    "# Add marker layer ontop of heat map\n",
    "markers = gmaps.marker_layer(locations)\n",
    "fig.add_layer(markers)\n",
    "# Display figure\n",
    "fig"
   ]
  },
  {
   "cell_type": "code",
   "execution_count": null,
   "metadata": {},
   "outputs": [],
   "source": []
  },
  {
   "cell_type": "code",
   "execution_count": null,
   "metadata": {},
   "outputs": [],
   "source": []
  }
 ],
 "metadata": {
  "kernelspec": {
   "display_name": "Brian",
   "language": "python",
   "name": "brian"
  },
  "language_info": {
   "codemirror_mode": {
    "name": "ipython",
    "version": 3
   },
   "file_extension": ".py",
   "mimetype": "text/x-python",
   "name": "python",
   "nbconvert_exporter": "python",
   "pygments_lexer": "ipython3",
   "version": "3.7.11"
  },
  "latex_envs": {
   "LaTeX_envs_menu_present": true,
   "autoclose": false,
   "autocomplete": true,
   "bibliofile": "biblio.bib",
   "cite_by": "apalike",
   "current_citInitial": 1,
   "eqLabelWithNumbers": true,
   "eqNumInitial": 1,
   "hotkeys": {
    "equation": "Ctrl-E",
    "itemize": "Ctrl-I"
   },
   "labels_anchors": false,
   "latex_user_defs": false,
   "report_style_numbering": false,
   "user_envs_cfg": false
  }
 },
 "nbformat": 4,
 "nbformat_minor": 4
}
