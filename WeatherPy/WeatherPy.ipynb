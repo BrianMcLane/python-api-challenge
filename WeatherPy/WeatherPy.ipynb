{
 "cells": [
  {
   "cell_type": "markdown",
   "metadata": {},
   "source": [
    "# WeatherPy\n",
    "----\n",
    "\n",
    "#### Note\n",
    "* Instructions have been included for each segment. You do not have to follow them exactly, but they are included to help you think through the steps."
   ]
  },
  {
   "cell_type": "code",
   "execution_count": 1,
   "metadata": {
    "scrolled": true
   },
   "outputs": [],
   "source": [
    "# Dependencies and Setup\n",
    "import matplotlib.pyplot as plt\n",
    "import pandas as pd\n",
    "import numpy as np\n",
    "import requests\n",
    "import time\n",
    "from scipy.stats import linregress\n",
    "import scipy.stats as sts\n",
    "\n",
    "# Import API key\n",
    "from api_keys import weather_api_key as api_key\n",
    "\n",
    "# Incorporated citipy to determine city based on latitude and longitude\n",
    "from citipy import citipy\n",
    "\n",
    "# Output File (CSV)\n",
    "output_data_file = \"output_data/cities.csv\"\n",
    "\n",
    "# Range of latitudes and longitudes\n",
    "lat_range = (-90, 90)\n",
    "lng_range = (-180, 180)"
   ]
  },
  {
   "cell_type": "markdown",
   "metadata": {},
   "source": [
    "## Generate Cities List"
   ]
  },
  {
   "cell_type": "code",
   "execution_count": 2,
   "metadata": {},
   "outputs": [
    {
     "data": {
      "text/plain": [
       "610"
      ]
     },
     "execution_count": 2,
     "metadata": {},
     "output_type": "execute_result"
    }
   ],
   "source": [
    "# List for holding lat_lngs and cities\n",
    "lat_lngs = []\n",
    "cities = []\n",
    "\n",
    "# Create a set of random lat and lng combinations\n",
    "lats = np.random.uniform(lat_range[0], lat_range[1], size=1500)\n",
    "lngs = np.random.uniform(lng_range[0], lng_range[1], size=1500)\n",
    "lat_lngs = zip(lats, lngs)\n",
    "\n",
    "# Identify nearest city for each lat, lng combination\n",
    "for lat_lng in lat_lngs:\n",
    "    city = citipy.nearest_city(lat_lng[0], lat_lng[1]).city_name\n",
    "    \n",
    "    # If the city is unique, then add it to a our cities list\n",
    "    if city not in cities:\n",
    "        cities.append(city)\n",
    "\n",
    "# Print the city count to confirm sufficient count\n",
    "len(cities)\n"
   ]
  },
  {
   "cell_type": "markdown",
   "metadata": {},
   "source": [
    "### Perform API Calls\n",
    "* Perform a weather check on each city using a series of successive API calls.\n",
    "* Include a print log of each city as it's being processed (with the city number and city name).\n"
   ]
  },
  {
   "cell_type": "code",
   "execution_count": null,
   "metadata": {},
   "outputs": [],
   "source": []
  },
  {
   "cell_type": "code",
   "execution_count": null,
   "metadata": {},
   "outputs": [],
   "source": []
  },
  {
   "cell_type": "code",
   "execution_count": 3,
   "metadata": {},
   "outputs": [],
   "source": [
    "import time "
   ]
  },
  {
   "cell_type": "code",
   "execution_count": 4,
   "metadata": {
    "scrolled": true
   },
   "outputs": [
    {
     "name": "stdout",
     "output_type": "stream",
     "text": [
      "Beginning data retrieval        \n",
      "--------------------------------\n",
      "Processing Record 1 of Set 1 | freeport\n",
      "Processing Record 2 of Set 1 | kumla\n",
      "Processing Record 3 of Set 1 | cururupu\n",
      "Processing Record 4 of Set 1 | vardo\n",
      "Processing Record 5 of Set 1 | mataura\n",
      "Processing Record 6 of Set 1 | itoman\n",
      "Processing Record 7 of Set 1 | esperance\n",
      "Processing Record 8 of Set 1 | east london\n",
      "Processing Record 9 of Set 1 | ust-kamchatsk\n",
      "City Not Found. Skipping......\n",
      "Processing Record 10 of Set 1 | pangnirtung\n",
      "Processing Record 11 of Set 1 | bredasdorp\n",
      "Processing Record 12 of Set 1 | chokurdakh\n",
      "Processing Record 13 of Set 1 | berlevag\n",
      "Processing Record 14 of Set 1 | noumea\n",
      "Processing Record 15 of Set 1 | qaanaaq\n",
      "Processing Record 16 of Set 1 | torbay\n",
      "Processing Record 17 of Set 1 | bluff\n",
      "Processing Record 18 of Set 1 | jamestown\n",
      "Processing Record 19 of Set 1 | souillac\n",
      "Processing Record 20 of Set 1 | hobart\n",
      "Processing Record 21 of Set 1 | bethel\n",
      "Processing Record 22 of Set 1 | vaini\n",
      "Processing Record 23 of Set 1 | butaritari\n",
      "Processing Record 24 of Set 1 | fortuna\n",
      "Processing Record 25 of Set 1 | atuona\n",
      "Processing Record 26 of Set 1 | fare\n",
      "Processing Record 27 of Set 1 | bagan\n",
      "Processing Record 28 of Set 1 | kapaa\n",
      "Processing Record 29 of Set 1 | rikitea\n",
      "Processing Record 30 of Set 1 | mogadishu\n",
      "Processing Record 31 of Set 1 | nizhniy baskunchak\n",
      "Processing Record 32 of Set 1 | ushuaia\n",
      "Processing Record 33 of Set 1 | yumen\n",
      "Processing Record 34 of Set 1 | belushya guba\n",
      "City Not Found. Skipping......\n",
      "Processing Record 35 of Set 1 | yei\n",
      "Processing Record 36 of Set 1 | la ronge\n",
      "Processing Record 37 of Set 1 | hargeysa\n",
      "Processing Record 38 of Set 1 | sur\n",
      "Processing Record 39 of Set 1 | lorengau\n",
      "Processing Record 40 of Set 1 | imamoglu\n",
      "Processing Record 41 of Set 1 | san policarpo\n",
      "Processing Record 42 of Set 1 | kruisfontein\n",
      "Processing Record 43 of Set 1 | barentsburg\n",
      "City Not Found. Skipping......\n",
      "Processing Record 44 of Set 1 | punta arenas\n",
      "Processing Record 45 of Set 1 | bacuit\n",
      "City Not Found. Skipping......\n",
      "Processing Record 46 of Set 1 | busselton\n",
      "Processing Record 47 of Set 1 | santa isabel\n",
      "Processing Record 48 of Set 1 | nikolskoye\n",
      "Processing Record 49 of Set 1 | sabang\n",
      "Processing Record 50 of Set 1 | hermanus\n",
      "Processing Record 0 of Set 2 | tongliao\n",
      "Processing Record 1 of Set 2 | georgetown\n",
      "Processing Record 2 of Set 2 | ahipara\n",
      "Processing Record 3 of Set 2 | illoqqortoormiut\n",
      "City Not Found. Skipping......\n",
      "Processing Record 4 of Set 2 | ponta do sol\n",
      "Processing Record 5 of Set 2 | wattegama\n",
      "Processing Record 6 of Set 2 | fort abbas\n",
      "Processing Record 7 of Set 2 | gornyy\n",
      "Processing Record 8 of Set 2 | port alfred\n",
      "Processing Record 9 of Set 2 | cape town\n",
      "Processing Record 10 of Set 2 | hithadhoo\n",
      "Processing Record 11 of Set 2 | cidreira\n",
      "Processing Record 12 of Set 2 | avarua\n",
      "Processing Record 13 of Set 2 | ussel\n",
      "Processing Record 14 of Set 2 | arman\n",
      "Processing Record 15 of Set 2 | carnarvon\n",
      "Processing Record 16 of Set 2 | cabo san lucas\n",
      "Processing Record 17 of Set 2 | northam\n",
      "Processing Record 18 of Set 2 | mys shmidta\n",
      "City Not Found. Skipping......\n",
      "Processing Record 19 of Set 2 | keti bandar\n",
      "Processing Record 20 of Set 2 | bandarbeyla\n",
      "Processing Record 21 of Set 2 | caravelas\n",
      "Processing Record 22 of Set 2 | lagoa\n",
      "Processing Record 23 of Set 2 | inirida\n",
      "Processing Record 24 of Set 2 | mount isa\n",
      "Processing Record 25 of Set 2 | petropavlovsk-kamchatskiy\n",
      "Processing Record 26 of Set 2 | araouane\n",
      "Processing Record 27 of Set 2 | inhambane\n",
      "Processing Record 28 of Set 2 | tuatapere\n",
      "Processing Record 29 of Set 2 | amarpur\n",
      "Processing Record 30 of Set 2 | tessalit\n",
      "Processing Record 31 of Set 2 | coihaique\n",
      "Processing Record 32 of Set 2 | terre-de-bas\n",
      "Processing Record 33 of Set 2 | provideniya\n",
      "Processing Record 34 of Set 2 | pevek\n",
      "Processing Record 35 of Set 2 | isangel\n",
      "Processing Record 36 of Set 2 | mentok\n",
      "City Not Found. Skipping......\n",
      "Processing Record 37 of Set 2 | preobrazheniye\n",
      "Processing Record 38 of Set 2 | albany\n",
      "Processing Record 39 of Set 2 | sao joao da barra\n",
      "Processing Record 40 of Set 2 | new norfolk\n",
      "Processing Record 41 of Set 2 | bonthe\n",
      "Processing Record 42 of Set 2 | taolanaro\n",
      "City Not Found. Skipping......\n",
      "Processing Record 43 of Set 2 | saint-philippe\n",
      "Processing Record 44 of Set 2 | portland\n",
      "Processing Record 45 of Set 2 | thompson\n",
      "Processing Record 46 of Set 2 | hamilton\n",
      "Processing Record 47 of Set 2 | lata\n",
      "Processing Record 48 of Set 2 | mar del plata\n",
      "Processing Record 49 of Set 2 | halifax\n",
      "Processing Record 0 of Set 3 | vila velha\n",
      "Processing Record 1 of Set 3 | dikson\n",
      "Processing Record 2 of Set 3 | ruatoria\n",
      "City Not Found. Skipping......\n",
      "Processing Record 3 of Set 3 | tazovskiy\n",
      "Processing Record 4 of Set 3 | kodiak\n",
      "Processing Record 5 of Set 3 | bereda\n",
      "Processing Record 6 of Set 3 | tasiilaq\n",
      "Processing Record 7 of Set 3 | sokoto\n",
      "Processing Record 8 of Set 3 | geraldton\n",
      "Processing Record 9 of Set 3 | aksarka\n",
      "Processing Record 10 of Set 3 | talcahuano\n",
      "Processing Record 11 of Set 3 | faanui\n",
      "Processing Record 12 of Set 3 | nizhneyansk\n",
      "City Not Found. Skipping......\n",
      "Processing Record 13 of Set 3 | nome\n",
      "Processing Record 14 of Set 3 | jalu\n",
      "Processing Record 15 of Set 3 | kavieng\n",
      "Processing Record 16 of Set 3 | kaitangata\n",
      "Processing Record 17 of Set 3 | usvyaty\n",
      "Processing Record 18 of Set 3 | saleaula\n",
      "City Not Found. Skipping......\n",
      "Processing Record 19 of Set 3 | shingu\n",
      "Processing Record 20 of Set 3 | puerto ayora\n",
      "Processing Record 21 of Set 3 | arraial do cabo\n",
      "Processing Record 22 of Set 3 | pacific grove\n",
      "Processing Record 23 of Set 3 | netolice\n",
      "Processing Record 24 of Set 3 | macaboboni\n",
      "City Not Found. Skipping......\n",
      "Processing Record 25 of Set 3 | ribeira grande\n",
      "Processing Record 26 of Set 3 | port lincoln\n",
      "Processing Record 27 of Set 3 | jiuquan\n",
      "Processing Record 28 of Set 3 | tuktoyaktuk\n",
      "Processing Record 29 of Set 3 | altay\n",
      "Processing Record 30 of Set 3 | hami\n",
      "Processing Record 31 of Set 3 | ponta delgada\n",
      "Processing Record 32 of Set 3 | lebu\n",
      "Processing Record 33 of Set 3 | san remigio\n",
      "Processing Record 34 of Set 3 | soldotna\n",
      "Processing Record 35 of Set 3 | castro\n",
      "Processing Record 36 of Set 3 | nuuk\n",
      "Processing Record 37 of Set 3 | saskylakh\n",
      "Processing Record 38 of Set 3 | seoul\n",
      "Processing Record 39 of Set 3 | kurchum\n",
      "Processing Record 40 of Set 3 | yellowknife\n",
      "Processing Record 41 of Set 3 | golkoy\n",
      "Processing Record 42 of Set 3 | katsuura\n",
      "Processing Record 43 of Set 3 | banda aceh\n",
      "Processing Record 44 of Set 3 | jardim do serido\n",
      "Processing Record 45 of Set 3 | eldikan\n",
      "City Not Found. Skipping......\n",
      "Processing Record 46 of Set 3 | dingle\n",
      "Processing Record 47 of Set 3 | morant bay\n",
      "Processing Record 48 of Set 3 | awjilah\n",
      "Processing Record 49 of Set 3 | sitka\n",
      "Processing Record 0 of Set 4 | teguldet\n",
      "Processing Record 1 of Set 4 | moron\n",
      "Processing Record 2 of Set 4 | talnakh\n",
      "Processing Record 3 of Set 4 | tigil\n",
      "Processing Record 4 of Set 4 | ancud\n",
      "Processing Record 5 of Set 4 | namibe\n",
      "Processing Record 6 of Set 4 | rock springs\n",
      "Processing Record 7 of Set 4 | ogaminana\n",
      "Processing Record 8 of Set 4 | newton\n",
      "Processing Record 9 of Set 4 | mpanda\n",
      "Processing Record 10 of Set 4 | hilo\n",
      "Processing Record 11 of Set 4 | inta\n",
      "Processing Record 12 of Set 4 | zhigansk\n",
      "Processing Record 13 of Set 4 | morro bay\n",
      "Processing Record 14 of Set 4 | bafia\n",
      "Processing Record 15 of Set 4 | tondano\n",
      "Processing Record 16 of Set 4 | hasaki\n",
      "Processing Record 17 of Set 4 | narsaq\n",
      "Processing Record 18 of Set 4 | malpe\n",
      "Processing Record 19 of Set 4 | san patricio\n",
      "Processing Record 20 of Set 4 | bay roberts\n",
      "Processing Record 21 of Set 4 | porbandar\n",
      "Processing Record 22 of Set 4 | inderborskiy\n",
      "City Not Found. Skipping......\n",
      "Processing Record 23 of Set 4 | mareeba\n",
      "Processing Record 24 of Set 4 | gua musang\n",
      "Processing Record 25 of Set 4 | bata\n",
      "Processing Record 26 of Set 4 | samarai\n",
      "Processing Record 27 of Set 4 | amderma\n",
      "City Not Found. Skipping......\n",
      "Processing Record 28 of Set 4 | verkhoyansk\n",
      "Processing Record 29 of Set 4 | severo-kurilsk\n",
      "Processing Record 30 of Set 4 | barrow\n",
      "Processing Record 31 of Set 4 | hoskote\n",
      "Processing Record 32 of Set 4 | dong xoai\n",
      "Processing Record 33 of Set 4 | codrington\n",
      "Processing Record 34 of Set 4 | abalak\n",
      "Processing Record 35 of Set 4 | upernavik\n",
      "Processing Record 36 of Set 4 | elko\n"
     ]
    },
    {
     "name": "stdout",
     "output_type": "stream",
     "text": [
      "Processing Record 37 of Set 4 | gravdal\n",
      "Processing Record 38 of Set 4 | mahebourg\n",
      "Processing Record 39 of Set 4 | amapa\n",
      "Processing Record 40 of Set 4 | san cristobal\n",
      "Processing Record 41 of Set 4 | itapora\n",
      "Processing Record 42 of Set 4 | san andres\n",
      "Processing Record 43 of Set 4 | clyde river\n",
      "Processing Record 44 of Set 4 | palabuhanratu\n",
      "City Not Found. Skipping......\n",
      "Processing Record 45 of Set 4 | belaya gora\n",
      "Processing Record 46 of Set 4 | tezu\n",
      "Processing Record 47 of Set 4 | bahar\n",
      "Processing Record 48 of Set 4 | mahajanga\n",
      "Processing Record 49 of Set 4 | nizwa\n",
      "Processing Record 0 of Set 5 | puerto madryn\n",
      "Processing Record 1 of Set 5 | asau\n",
      "Processing Record 2 of Set 5 | phan rang\n",
      "City Not Found. Skipping......\n",
      "Processing Record 3 of Set 5 | osorno\n",
      "Processing Record 4 of Set 5 | kavaratti\n",
      "Processing Record 5 of Set 5 | jaru\n",
      "Processing Record 6 of Set 5 | port keats\n",
      "Processing Record 7 of Set 5 | sukhoverkovo\n",
      "City Not Found. Skipping......\n",
      "Processing Record 8 of Set 5 | tawzar\n",
      "City Not Found. Skipping......\n",
      "Processing Record 9 of Set 5 | kieta\n",
      "Processing Record 10 of Set 5 | asmara\n",
      "Processing Record 11 of Set 5 | shu\n",
      "Processing Record 12 of Set 5 | lazaro cardenas\n",
      "Processing Record 13 of Set 5 | jasper\n",
      "Processing Record 14 of Set 5 | mmathubudukwane\n",
      "Processing Record 15 of Set 5 | kolpashevo\n",
      "Processing Record 16 of Set 5 | piacabucu\n",
      "Processing Record 17 of Set 5 | mana\n",
      "Processing Record 18 of Set 5 | arlit\n",
      "Processing Record 19 of Set 5 | vaitape\n",
      "Processing Record 20 of Set 5 | victoria\n",
      "Processing Record 21 of Set 5 | aklavik\n",
      "Processing Record 22 of Set 5 | dhaulpur\n",
      "Processing Record 23 of Set 5 | lompoc\n",
      "Processing Record 24 of Set 5 | leningradskiy\n",
      "Processing Record 25 of Set 5 | verkhnyaya inta\n",
      "Processing Record 26 of Set 5 | ha tinh\n",
      "Processing Record 27 of Set 5 | bud\n",
      "Processing Record 28 of Set 5 | laguna\n",
      "Processing Record 29 of Set 5 | alpena\n",
      "Processing Record 30 of Set 5 | broome\n",
      "Processing Record 31 of Set 5 | zambezi\n",
      "Processing Record 32 of Set 5 | paita\n",
      "Processing Record 33 of Set 5 | eyl\n",
      "Processing Record 34 of Set 5 | gillette\n",
      "Processing Record 35 of Set 5 | bambous virieux\n",
      "Processing Record 36 of Set 5 | russell\n",
      "Processing Record 37 of Set 5 | doha\n",
      "Processing Record 38 of Set 5 | maldonado\n",
      "Processing Record 39 of Set 5 | khatanga\n",
      "Processing Record 40 of Set 5 | constitucion\n",
      "Processing Record 41 of Set 5 | mergui\n",
      "City Not Found. Skipping......\n",
      "Processing Record 42 of Set 5 | chagda\n",
      "City Not Found. Skipping......\n",
      "Processing Record 43 of Set 5 | fez\n",
      "Processing Record 44 of Set 5 | port elizabeth\n",
      "Processing Record 45 of Set 5 | tongchuan\n",
      "Processing Record 46 of Set 5 | praia da vitoria\n",
      "Processing Record 47 of Set 5 | oksfjord\n",
      "Processing Record 48 of Set 5 | voyinka\n",
      "Processing Record 49 of Set 5 | emerald\n",
      "Processing Record 0 of Set 6 | chuy\n",
      "Processing Record 1 of Set 6 | zyryanka\n",
      "Processing Record 2 of Set 6 | sawtell\n",
      "Processing Record 3 of Set 6 | homer\n",
      "Processing Record 4 of Set 6 | shelburne\n",
      "Processing Record 5 of Set 6 | jibuti\n",
      "Processing Record 6 of Set 6 | grand river south east\n",
      "City Not Found. Skipping......\n",
      "Processing Record 7 of Set 6 | yanchukan\n",
      "City Not Found. Skipping......\n",
      "Processing Record 8 of Set 6 | nizhniy kuranakh\n",
      "Processing Record 9 of Set 6 | jilin\n",
      "Processing Record 10 of Set 6 | sentyabrskiy\n",
      "City Not Found. Skipping......\n",
      "Processing Record 11 of Set 6 | athmallik\n",
      "Processing Record 12 of Set 6 | los llanos de aridane\n",
      "Processing Record 13 of Set 6 | norman wells\n",
      "Processing Record 14 of Set 6 | chumikan\n",
      "Processing Record 15 of Set 6 | nsanje\n",
      "Processing Record 16 of Set 6 | boca do acre\n",
      "Processing Record 17 of Set 6 | kahului\n",
      "Processing Record 18 of Set 6 | sambava\n",
      "Processing Record 19 of Set 6 | shache\n",
      "Processing Record 20 of Set 6 | ericeira\n",
      "Processing Record 21 of Set 6 | chalons-en-champagne\n",
      "Processing Record 22 of Set 6 | tsihombe\n",
      "City Not Found. Skipping......\n",
      "Processing Record 23 of Set 6 | vestbygda\n",
      "City Not Found. Skipping......\n",
      "Processing Record 24 of Set 6 | porto belo\n",
      "Processing Record 25 of Set 6 | nabire\n",
      "Processing Record 26 of Set 6 | gornopravdinsk\n",
      "Processing Record 27 of Set 6 | buala\n",
      "Processing Record 28 of Set 6 | vao\n",
      "Processing Record 29 of Set 6 | polson\n",
      "Processing Record 30 of Set 6 | bubaque\n",
      "Processing Record 31 of Set 6 | point fortin\n",
      "Processing Record 32 of Set 6 | kamenskoye\n",
      "City Not Found. Skipping......\n",
      "Processing Record 33 of Set 6 | deputatskiy\n",
      "Processing Record 34 of Set 6 | ayorou\n",
      "Processing Record 35 of Set 6 | doume\n",
      "Processing Record 36 of Set 6 | ribita\n",
      "Processing Record 37 of Set 6 | baker city\n",
      "Processing Record 38 of Set 6 | ampanihy\n",
      "Processing Record 39 of Set 6 | benghazi\n",
      "Processing Record 40 of Set 6 | boueni\n",
      "Processing Record 41 of Set 6 | ishim\n",
      "Processing Record 42 of Set 6 | mitsamiouli\n",
      "Processing Record 43 of Set 6 | altamira\n",
      "Processing Record 44 of Set 6 | cocorit\n",
      "Processing Record 45 of Set 6 | puerto del rosario\n",
      "Processing Record 46 of Set 6 | hervey bay\n",
      "Processing Record 47 of Set 6 | sola\n",
      "Processing Record 48 of Set 6 | kuraymah\n",
      "Processing Record 49 of Set 6 | aykhal\n",
      "Processing Record 0 of Set 7 | tiksi\n",
      "Processing Record 1 of Set 7 | cherskiy\n",
      "Processing Record 2 of Set 7 | hailey\n",
      "Processing Record 3 of Set 7 | margate\n",
      "Processing Record 4 of Set 7 | umm kaddadah\n",
      "Processing Record 5 of Set 7 | tabiauea\n",
      "City Not Found. Skipping......\n",
      "Processing Record 6 of Set 7 | buchanan\n",
      "Processing Record 7 of Set 7 | tostamaa\n",
      "City Not Found. Skipping......\n",
      "Processing Record 8 of Set 7 | krasnoselkup\n",
      "Processing Record 9 of Set 7 | adrar\n",
      "Processing Record 10 of Set 7 | ola\n",
      "Processing Record 11 of Set 7 | havoysund\n",
      "Processing Record 12 of Set 7 | teruel\n",
      "Processing Record 13 of Set 7 | cordoba\n",
      "Processing Record 14 of Set 7 | kollam\n",
      "Processing Record 15 of Set 7 | faya\n",
      "Processing Record 16 of Set 7 | san quintin\n",
      "Processing Record 17 of Set 7 | acapulco\n",
      "Processing Record 18 of Set 7 | haines junction\n",
      "Processing Record 19 of Set 7 | mount gambier\n",
      "Processing Record 20 of Set 7 | conakry\n",
      "Processing Record 21 of Set 7 | touros\n",
      "Processing Record 22 of Set 7 | saint-joseph\n",
      "Processing Record 23 of Set 7 | yulara\n",
      "Processing Record 24 of Set 7 | carupano\n",
      "Processing Record 25 of Set 7 | fethiye\n",
      "Processing Record 26 of Set 7 | tasbuget\n",
      "City Not Found. Skipping......\n",
      "Processing Record 27 of Set 7 | fergus falls\n",
      "Processing Record 28 of Set 7 | liminangcong\n",
      "City Not Found. Skipping......\n",
      "Processing Record 29 of Set 7 | necochea\n",
      "Processing Record 30 of Set 7 | boulsa\n",
      "Processing Record 31 of Set 7 | nanakuli\n",
      "Processing Record 32 of Set 7 | umzimvubu\n",
      "City Not Found. Skipping......\n",
      "Processing Record 33 of Set 7 | zhigalovo\n",
      "Processing Record 34 of Set 7 | urumqi\n",
      "Processing Record 35 of Set 7 | edmundston\n",
      "Processing Record 36 of Set 7 | salalah\n",
      "Processing Record 37 of Set 7 | saint-augustin\n",
      "Processing Record 38 of Set 7 | wulanhaote\n",
      "City Not Found. Skipping......\n",
      "Processing Record 39 of Set 7 | nanortalik\n",
      "Processing Record 40 of Set 7 | puerto escondido\n",
      "Processing Record 41 of Set 7 | takoradi\n",
      "Processing Record 42 of Set 7 | srivardhan\n",
      "Processing Record 43 of Set 7 | stornoway\n",
      "Processing Record 44 of Set 7 | quatre cocos\n",
      "Processing Record 45 of Set 7 | grindavik\n",
      "Processing Record 46 of Set 7 | jacareacanga\n",
      "Processing Record 47 of Set 7 | ajaccio\n",
      "Processing Record 48 of Set 7 | cuiluan\n",
      "Processing Record 49 of Set 7 | rodrigues alves\n",
      "Processing Record 0 of Set 8 | kutum\n",
      "Processing Record 1 of Set 8 | nyurba\n",
      "Processing Record 2 of Set 8 | iracoubo\n",
      "Processing Record 3 of Set 8 | pahalgam\n",
      "Processing Record 4 of Set 8 | kushmurun\n",
      "Processing Record 5 of Set 8 | vredendal\n",
      "Processing Record 6 of Set 8 | grand centre\n",
      "City Not Found. Skipping......\n",
      "Processing Record 7 of Set 8 | sao paulo de olivenca\n",
      "Processing Record 8 of Set 8 | ambilobe\n",
      "Processing Record 9 of Set 8 | kisangani\n",
      "Processing Record 10 of Set 8 | manzhouli\n",
      "Processing Record 11 of Set 8 | hualmay\n",
      "Processing Record 12 of Set 8 | milkovo\n",
      "Processing Record 13 of Set 8 | saint george\n",
      "Processing Record 14 of Set 8 | kidodi\n",
      "Processing Record 15 of Set 8 | usak\n",
      "Processing Record 16 of Set 8 | kuche\n",
      "City Not Found. Skipping......\n",
      "Processing Record 17 of Set 8 | izhma\n",
      "Processing Record 18 of Set 8 | andenes\n",
      "Processing Record 19 of Set 8 | luzhou\n",
      "Processing Record 20 of Set 8 | turbat\n"
     ]
    },
    {
     "name": "stdout",
     "output_type": "stream",
     "text": [
      "Processing Record 21 of Set 8 | vysokogornyy\n",
      "Processing Record 22 of Set 8 | san antonio\n",
      "Processing Record 23 of Set 8 | vestmannaeyjar\n",
      "Processing Record 24 of Set 8 | manta\n",
      "Processing Record 25 of Set 8 | tura\n",
      "Processing Record 26 of Set 8 | noyabrsk\n",
      "Processing Record 27 of Set 8 | santa cruz\n",
      "Processing Record 28 of Set 8 | taburi\n",
      "City Not Found. Skipping......\n",
      "Processing Record 29 of Set 8 | vung tau\n",
      "Processing Record 30 of Set 8 | whitehorse\n",
      "Processing Record 31 of Set 8 | stokmarknes\n",
      "Processing Record 32 of Set 8 | bentonville\n",
      "Processing Record 33 of Set 8 | iqaluit\n",
      "Processing Record 34 of Set 8 | agar\n",
      "Processing Record 35 of Set 8 | mandan\n",
      "Processing Record 36 of Set 8 | lavumisa\n",
      "Processing Record 37 of Set 8 | baykit\n",
      "Processing Record 38 of Set 8 | khorixas\n",
      "Processing Record 39 of Set 8 | naze\n",
      "Processing Record 40 of Set 8 | thinadhoo\n",
      "Processing Record 41 of Set 8 | tumannyy\n",
      "City Not Found. Skipping......\n",
      "Processing Record 42 of Set 8 | golfito\n",
      "Processing Record 43 of Set 8 | motygino\n",
      "Processing Record 44 of Set 8 | attawapiskat\n",
      "City Not Found. Skipping......\n",
      "Processing Record 45 of Set 8 | samalaeulu\n",
      "City Not Found. Skipping......\n",
      "Processing Record 46 of Set 8 | puteyets\n",
      "Processing Record 47 of Set 8 | sekoma\n",
      "Processing Record 48 of Set 8 | jieshi\n",
      "Processing Record 49 of Set 8 | itarema\n",
      "Processing Record 0 of Set 9 | estelle\n",
      "Processing Record 1 of Set 9 | marica\n",
      "Processing Record 2 of Set 9 | vaitupu\n",
      "City Not Found. Skipping......\n",
      "Processing Record 3 of Set 9 | boda\n",
      "Processing Record 4 of Set 9 | zavodoukovsk\n",
      "Processing Record 5 of Set 9 | kamenka\n",
      "Processing Record 6 of Set 9 | pershotravneve\n",
      "Processing Record 7 of Set 9 | yerbogachen\n",
      "Processing Record 8 of Set 9 | samusu\n",
      "City Not Found. Skipping......\n",
      "Processing Record 9 of Set 9 | half moon bay\n",
      "Processing Record 10 of Set 9 | beringovskiy\n",
      "Processing Record 11 of Set 9 | banjar\n",
      "Processing Record 12 of Set 9 | ulaangom\n",
      "Processing Record 13 of Set 9 | porto novo\n",
      "Processing Record 14 of Set 9 | senanga\n",
      "Processing Record 15 of Set 9 | somerset\n",
      "Processing Record 16 of Set 9 | bagdarin\n",
      "Processing Record 17 of Set 9 | frunze\n",
      "Processing Record 18 of Set 9 | la uribe\n",
      "City Not Found. Skipping......\n",
      "Processing Record 19 of Set 9 | verkhnevilyuysk\n",
      "Processing Record 20 of Set 9 | ilulissat\n",
      "Processing Record 21 of Set 9 | ketchenery\n",
      "City Not Found. Skipping......\n",
      "Processing Record 22 of Set 9 | lavrentiya\n",
      "Processing Record 23 of Set 9 | flinders\n",
      "Processing Record 24 of Set 9 | san-pedro\n",
      "Processing Record 25 of Set 9 | airai\n",
      "Processing Record 26 of Set 9 | lingao\n",
      "Processing Record 27 of Set 9 | novi sanzhary\n",
      "Processing Record 28 of Set 9 | camiri\n",
      "Processing Record 29 of Set 9 | stryn\n",
      "Processing Record 30 of Set 9 | dharchula\n",
      "Processing Record 31 of Set 9 | shangzhi\n",
      "Processing Record 32 of Set 9 | richards bay\n",
      "Processing Record 33 of Set 9 | atambua\n",
      "Processing Record 34 of Set 9 | port-cartier\n",
      "Processing Record 35 of Set 9 | sitio novo do tocantins\n",
      "Processing Record 36 of Set 9 | batagay\n",
      "Processing Record 37 of Set 9 | lerwick\n",
      "Processing Record 38 of Set 9 | whitley bay\n",
      "Processing Record 39 of Set 9 | suluq\n",
      "Processing Record 40 of Set 9 | paamiut\n",
      "Processing Record 41 of Set 9 | fairbanks\n",
      "Processing Record 42 of Set 9 | meulaboh\n",
      "Processing Record 43 of Set 9 | mount pleasant\n",
      "Processing Record 44 of Set 9 | rio grande\n",
      "Processing Record 45 of Set 9 | ikongo\n",
      "Processing Record 46 of Set 9 | sembakung\n",
      "Processing Record 47 of Set 9 | pangai\n",
      "Processing Record 48 of Set 9 | broken hill\n",
      "Processing Record 49 of Set 9 | orikum\n",
      "Processing Record 0 of Set 10 | ostrovnoy\n",
      "Processing Record 1 of Set 10 | walvis bay\n",
      "Processing Record 2 of Set 10 | padang\n",
      "Processing Record 3 of Set 10 | ngong\n",
      "Processing Record 4 of Set 10 | marcona\n",
      "City Not Found. Skipping......\n",
      "Processing Record 5 of Set 10 | santa fe\n",
      "Processing Record 6 of Set 10 | rameswaram\n",
      "Processing Record 7 of Set 10 | amahai\n",
      "Processing Record 8 of Set 10 | launceston\n",
      "Processing Record 9 of Set 10 | mandalgovi\n",
      "Processing Record 10 of Set 10 | mujiayingzi\n",
      "Processing Record 11 of Set 10 | zhangjiakou\n",
      "Processing Record 12 of Set 10 | coquimbo\n",
      "Processing Record 13 of Set 10 | kysyl-syr\n",
      "Processing Record 14 of Set 10 | bandar-e torkaman\n",
      "City Not Found. Skipping......\n",
      "Processing Record 15 of Set 10 | rundu\n",
      "Processing Record 16 of Set 10 | coos bay\n",
      "Processing Record 17 of Set 10 | businga\n",
      "Processing Record 18 of Set 10 | cumana\n",
      "Processing Record 19 of Set 10 | flin flon\n",
      "Processing Record 20 of Set 10 | bengkulu\n",
      "Processing Record 21 of Set 10 | mega\n",
      "Processing Record 22 of Set 10 | lolua\n",
      "City Not Found. Skipping......\n",
      "Processing Record 23 of Set 10 | ulladulla\n",
      "Processing Record 24 of Set 10 | mongo\n",
      "Processing Record 25 of Set 10 | majene\n",
      "Processing Record 26 of Set 10 | saldanha\n",
      "Processing Record 27 of Set 10 | cervo\n",
      "Processing Record 28 of Set 10 | puerto narino\n",
      "Processing Record 29 of Set 10 | north platte\n",
      "Processing Record 30 of Set 10 | rocha\n",
      "Processing Record 31 of Set 10 | auchel\n",
      "Processing Record 32 of Set 10 | jamame\n",
      "Processing Record 33 of Set 10 | prince rupert\n",
      "Processing Record 34 of Set 10 | vastervik\n",
      "City Not Found. Skipping......\n",
      "Processing Record 35 of Set 10 | sulangan\n",
      "Processing Record 36 of Set 10 | imeni poliny osipenko\n",
      "Processing Record 37 of Set 10 | longyearbyen\n",
      "Processing Record 38 of Set 10 | horadiz\n",
      "Processing Record 39 of Set 10 | wanaka\n",
      "Processing Record 40 of Set 10 | oranjemund\n",
      "Processing Record 41 of Set 10 | kangasala\n",
      "Processing Record 42 of Set 10 | comandau\n",
      "Processing Record 43 of Set 10 | sept-iles\n",
      "Processing Record 44 of Set 10 | azimur\n",
      "City Not Found. Skipping......\n",
      "Processing Record 45 of Set 10 | qobustan\n",
      "Processing Record 46 of Set 10 | marsaxlokk\n",
      "Processing Record 47 of Set 10 | ciras\n",
      "City Not Found. Skipping......\n",
      "Processing Record 48 of Set 10 | springbok\n",
      "Processing Record 49 of Set 10 | mathbaria\n",
      "Processing Record 0 of Set 11 | antalaha\n",
      "Processing Record 1 of Set 11 | muros\n",
      "Processing Record 2 of Set 11 | klaksvik\n",
      "Processing Record 3 of Set 11 | gidole\n",
      "Processing Record 4 of Set 11 | escanaba\n",
      "Processing Record 5 of Set 11 | chifeng\n",
      "Processing Record 6 of Set 11 | skibbereen\n",
      "Processing Record 7 of Set 11 | malangwa\n",
      "Processing Record 8 of Set 11 | auki\n",
      "Processing Record 9 of Set 11 | gaillac\n",
      "Processing Record 10 of Set 11 | santa clara\n",
      "Processing Record 11 of Set 11 | jumla\n",
      "Processing Record 12 of Set 11 | tautira\n",
      "Processing Record 13 of Set 11 | santo domingo\n",
      "Processing Record 14 of Set 11 | vallenar\n",
      "Processing Record 15 of Set 11 | mullaitivu\n",
      "City Not Found. Skipping......\n",
      "Processing Record 16 of Set 11 | mecca\n",
      "Processing Record 17 of Set 11 | caluquembe\n",
      "Processing Record 18 of Set 11 | salamiyah\n",
      "Processing Record 19 of Set 11 | yenagoa\n",
      "Processing Record 20 of Set 11 | at-bashi\n",
      "Processing Record 21 of Set 11 | berbera\n",
      "Processing Record 22 of Set 11 | yanam\n",
      "Processing Record 23 of Set 11 | wadi maliz\n",
      "Processing Record 24 of Set 11 | urdzhar\n",
      "City Not Found. Skipping......\n",
      "Processing Record 25 of Set 11 | luwuk\n",
      "Processing Record 26 of Set 11 | luchegorsk\n",
      "Processing Record 27 of Set 11 | lakatoro\n",
      "Processing Record 28 of Set 11 | dubuque\n",
      "Processing Record 29 of Set 11 | pringsewu\n",
      "Processing Record 30 of Set 11 | bukama\n",
      "Processing Record 31 of Set 11 | bonavista\n",
      "Processing Record 32 of Set 11 | yerofey pavlovich\n",
      "Processing Record 33 of Set 11 | burnie\n",
      "Processing Record 34 of Set 11 | vernon\n",
      "Processing Record 35 of Set 11 | kingston\n",
      "Processing Record 36 of Set 11 | churapcha\n",
      "Processing Record 37 of Set 11 | kazachinskoye\n",
      "Processing Record 38 of Set 11 | tilichiki\n",
      "Processing Record 39 of Set 11 | thaba-tseka\n",
      "Processing Record 40 of Set 11 | sioux lookout\n",
      "Processing Record 41 of Set 11 | kangaatsiaq\n",
      "Processing Record 42 of Set 11 | karratha\n",
      "Processing Record 43 of Set 11 | salinas\n",
      "Processing Record 44 of Set 11 | rivadavia\n",
      "Processing Record 45 of Set 11 | markova\n",
      "Processing Record 46 of Set 11 | le vauclin\n",
      "Processing Record 47 of Set 11 | gafargaon\n",
      "Processing Record 48 of Set 11 | port hardy\n",
      "Processing Record 49 of Set 11 | sooke\n",
      "Processing Record 0 of Set 12 | khorramabad\n",
      "Processing Record 1 of Set 12 | shimoda\n",
      "Processing Record 2 of Set 12 | gogrial\n",
      "Processing Record 3 of Set 12 | toliary\n",
      "City Not Found. Skipping......\n",
      "Processing Record 4 of Set 12 | ossora\n"
     ]
    },
    {
     "name": "stdout",
     "output_type": "stream",
     "text": [
      "Processing Record 5 of Set 12 | vila franca do campo\n",
      "Processing Record 6 of Set 12 | anadyr\n",
      "Processing Record 7 of Set 12 | cap malheureux\n",
      "Processing Record 8 of Set 12 | honningsvag\n",
      "Processing Record 9 of Set 12 | rapid city\n",
      "Processing Record 10 of Set 12 | tomatlan\n",
      "Processing Record 11 of Set 12 | santa maria\n",
      "Processing Record 12 of Set 12 | puro\n",
      "Processing Record 13 of Set 12 | susanville\n",
      "Processing Record 14 of Set 12 | harper\n",
      "Processing Record 15 of Set 12 | la rioja\n",
      "Processing Record 16 of Set 12 | jiayuguan\n",
      "Processing Record 17 of Set 12 | umm lajj\n",
      "Processing Record 18 of Set 12 | cabedelo\n",
      "Processing Record 19 of Set 12 | silver city\n",
      "Processing Record 20 of Set 12 | gladstone\n",
      "Processing Record 21 of Set 12 | luderitz\n",
      "Processing Record 22 of Set 12 | acarau\n",
      "Processing Record 23 of Set 12 | boffa\n",
      "Processing Record 24 of Set 12 | khandyga\n",
      "Processing Record 25 of Set 12 | goderich\n",
      "Processing Record 26 of Set 12 | muroto\n",
      "Processing Record 27 of Set 12 | miles city\n",
      "Processing Record 28 of Set 12 | ginir\n",
      "Processing Record 29 of Set 12 | herat\n",
      "Processing Record 30 of Set 12 | brae\n",
      "Processing Record 31 of Set 12 | pong\n",
      "Processing Record 32 of Set 12 | ialibu\n",
      "Processing Record 33 of Set 12 | korsakov\n",
      "Processing Record 34 of Set 12 | keflavik\n",
      "Processing Record 35 of Set 12 | linjiang\n",
      "Processing Record 36 of Set 12 | waitati\n",
      "Processing Record 37 of Set 12 | nantucket\n",
      "Processing Record 38 of Set 12 | rosario oeste\n",
      "Processing Record 39 of Set 12 | damaturu\n",
      "Processing Record 40 of Set 12 | manaure\n",
      "Processing Record 41 of Set 12 | daru\n",
      "Processing Record 42 of Set 12 | palauig\n",
      "Processing Record 43 of Set 12 | camargo\n",
      "Processing Record 44 of Set 12 | iranshahr\n",
      "Processing Record 45 of Set 12 | the pas\n",
      "Processing Record 46 of Set 12 | pecos\n",
      "Processing Record 47 of Set 12 | kitimat\n",
      "Processing Record 48 of Set 12 | general roca\n",
      "Processing Record 49 of Set 12 | beloha\n",
      "Processing Record 0 of Set 13 | buraydah\n",
      "Processing Record 1 of Set 13 | esmeraldas\n",
      "Processing Record 2 of Set 13 | berekum\n",
      "Processing Record 3 of Set 13 | boyuibe\n",
      "Processing Record 4 of Set 13 | hit\n",
      "Processing Record 5 of Set 13 | hunza\n",
      "City Not Found. Skipping......\n",
      "Processing Record 6 of Set 13 | hihifo\n",
      "City Not Found. Skipping......\n",
      "Processing Record 7 of Set 13 | bilibino\n",
      "Processing Record 8 of Set 13 | buta\n",
      "Processing Record 9 of Set 13 | bria\n",
      "--------------------------------\n",
      "Data Retrieval Complete         \n",
      "--------------------------------\n"
     ]
    }
   ],
   "source": [
    "# Tutor's help...\n",
    "\n",
    "url = \"http://api.openweathermap.org/data/2.5/weather?units=Imperial&APPID=\" + api_key\n",
    "# List of city data\n",
    "city_data = []\n",
    "\n",
    "#Print to logger\n",
    "print(\"Beginning data retrieval        \")\n",
    "print(\"--------------------------------\")\n",
    "\n",
    "# Create counter\n",
    "record_count = 1\n",
    "set_count = 1 \n",
    "\n",
    "# Loop through all cities in list\n",
    "for i, city in enumerate(cities):\n",
    "    \n",
    "    # Group cities in groups of 50\n",
    "    if (i %50==0 and i!=0):\n",
    "        set_count += 1 \n",
    "        record_count = 0\n",
    "        time.sleep(3)\n",
    "    # Create endpoint for each city\n",
    "    city_url = url+'&q='+city\n",
    "    print('Processing Record %s of Set %s | %s' % (record_count, set_count, city))\n",
    "    \n",
    "    record_count += 1 \n",
    "    \n",
    "    # Run API request for each city\n",
    "    response = requests.get(city_url)\n",
    "    results = response.json()\n",
    "    \n",
    "    try:\n",
    "        city_lat = results['coord']['lat']\n",
    "        city_lng = results['coord']['lon']\n",
    "        city_max_temp = results['main']['temp_max']\n",
    "        city_humidity = results['main']['humidity']\n",
    "        city_clouds = results['clouds']['all']\n",
    "        city_wind = results['wind']['speed']\n",
    "        city_country = results['sys']['country']\n",
    "        city_date = results['dt']\n",
    "\n",
    "        # Append city info into city_data list\n",
    "        city_data.append({'City Name': city,\n",
    "                          'Lat': city_lat,\n",
    "                          'Lng': city_lng,\n",
    "                         'Max Temp': city_max_temp,\n",
    "                         'Humidity': city_humidity,\n",
    "                         'Clouds': city_clouds,\n",
    "                         'Wind': city_wind,\n",
    "                         'Country': city_country,\n",
    "                         'Date': city_date})\n",
    "\n",
    "\n",
    "    except KeyError as e:\n",
    "        print('City Not Found. Skipping......')\n",
    "        pass \n",
    "    \n",
    "print(\"--------------------------------\")\n",
    "print('Data Retrieval Complete         ')\n",
    "print(\"--------------------------------\")\n"
   ]
  },
  {
   "cell_type": "code",
   "execution_count": null,
   "metadata": {},
   "outputs": [],
   "source": []
  },
  {
   "cell_type": "code",
   "execution_count": null,
   "metadata": {
    "scrolled": false
   },
   "outputs": [],
   "source": []
  },
  {
   "cell_type": "code",
   "execution_count": null,
   "metadata": {
    "scrolled": true
   },
   "outputs": [],
   "source": []
  },
  {
   "cell_type": "markdown",
   "metadata": {},
   "source": [
    "### Convert Raw Data to DataFrame\n",
    "* Export the city data into a .csv.\n",
    "* Display the DataFrame"
   ]
  },
  {
   "cell_type": "code",
   "execution_count": 5,
   "metadata": {},
   "outputs": [
    {
     "data": {
      "text/html": [
       "<div>\n",
       "<style scoped>\n",
       "    .dataframe tbody tr th:only-of-type {\n",
       "        vertical-align: middle;\n",
       "    }\n",
       "\n",
       "    .dataframe tbody tr th {\n",
       "        vertical-align: top;\n",
       "    }\n",
       "\n",
       "    .dataframe thead th {\n",
       "        text-align: right;\n",
       "    }\n",
       "</style>\n",
       "<table border=\"1\" class=\"dataframe\">\n",
       "  <thead>\n",
       "    <tr style=\"text-align: right;\">\n",
       "      <th></th>\n",
       "      <th>City Name</th>\n",
       "      <th>Lat</th>\n",
       "      <th>Lng</th>\n",
       "      <th>Max Temp</th>\n",
       "      <th>Humidity</th>\n",
       "      <th>Clouds</th>\n",
       "      <th>Wind</th>\n",
       "      <th>Country</th>\n",
       "      <th>Date</th>\n",
       "    </tr>\n",
       "  </thead>\n",
       "  <tbody>\n",
       "    <tr>\n",
       "      <th>0</th>\n",
       "      <td>freeport</td>\n",
       "      <td>40.6576</td>\n",
       "      <td>-73.5832</td>\n",
       "      <td>93.22</td>\n",
       "      <td>70</td>\n",
       "      <td>1</td>\n",
       "      <td>1.01</td>\n",
       "      <td>US</td>\n",
       "      <td>1628810692</td>\n",
       "    </tr>\n",
       "    <tr>\n",
       "      <th>1</th>\n",
       "      <td>kumla</td>\n",
       "      <td>59.1277</td>\n",
       "      <td>15.1434</td>\n",
       "      <td>58.33</td>\n",
       "      <td>88</td>\n",
       "      <td>20</td>\n",
       "      <td>5.75</td>\n",
       "      <td>SE</td>\n",
       "      <td>1628810700</td>\n",
       "    </tr>\n",
       "    <tr>\n",
       "      <th>2</th>\n",
       "      <td>cururupu</td>\n",
       "      <td>-1.8283</td>\n",
       "      <td>-44.8683</td>\n",
       "      <td>76.14</td>\n",
       "      <td>95</td>\n",
       "      <td>100</td>\n",
       "      <td>5.32</td>\n",
       "      <td>BR</td>\n",
       "      <td>1628810701</td>\n",
       "    </tr>\n",
       "    <tr>\n",
       "      <th>3</th>\n",
       "      <td>vardo</td>\n",
       "      <td>70.3705</td>\n",
       "      <td>31.1107</td>\n",
       "      <td>51.39</td>\n",
       "      <td>94</td>\n",
       "      <td>100</td>\n",
       "      <td>7.87</td>\n",
       "      <td>NO</td>\n",
       "      <td>1628810701</td>\n",
       "    </tr>\n",
       "    <tr>\n",
       "      <th>4</th>\n",
       "      <td>mataura</td>\n",
       "      <td>-46.1927</td>\n",
       "      <td>168.8643</td>\n",
       "      <td>50.49</td>\n",
       "      <td>89</td>\n",
       "      <td>17</td>\n",
       "      <td>2.98</td>\n",
       "      <td>NZ</td>\n",
       "      <td>1628810701</td>\n",
       "    </tr>\n",
       "    <tr>\n",
       "      <th>...</th>\n",
       "      <td>...</td>\n",
       "      <td>...</td>\n",
       "      <td>...</td>\n",
       "      <td>...</td>\n",
       "      <td>...</td>\n",
       "      <td>...</td>\n",
       "      <td>...</td>\n",
       "      <td>...</td>\n",
       "      <td>...</td>\n",
       "    </tr>\n",
       "    <tr>\n",
       "      <th>551</th>\n",
       "      <td>boyuibe</td>\n",
       "      <td>-20.4167</td>\n",
       "      <td>-63.2833</td>\n",
       "      <td>64.31</td>\n",
       "      <td>41</td>\n",
       "      <td>38</td>\n",
       "      <td>4.23</td>\n",
       "      <td>BO</td>\n",
       "      <td>1628810954</td>\n",
       "    </tr>\n",
       "    <tr>\n",
       "      <th>552</th>\n",
       "      <td>hit</td>\n",
       "      <td>33.6416</td>\n",
       "      <td>42.8251</td>\n",
       "      <td>94.55</td>\n",
       "      <td>21</td>\n",
       "      <td>0</td>\n",
       "      <td>10.69</td>\n",
       "      <td>IQ</td>\n",
       "      <td>1628810955</td>\n",
       "    </tr>\n",
       "    <tr>\n",
       "      <th>553</th>\n",
       "      <td>bilibino</td>\n",
       "      <td>68.0546</td>\n",
       "      <td>166.4372</td>\n",
       "      <td>64.06</td>\n",
       "      <td>44</td>\n",
       "      <td>100</td>\n",
       "      <td>4.56</td>\n",
       "      <td>RU</td>\n",
       "      <td>1628810955</td>\n",
       "    </tr>\n",
       "    <tr>\n",
       "      <th>554</th>\n",
       "      <td>buta</td>\n",
       "      <td>2.7858</td>\n",
       "      <td>24.7300</td>\n",
       "      <td>69.60</td>\n",
       "      <td>98</td>\n",
       "      <td>97</td>\n",
       "      <td>2.04</td>\n",
       "      <td>CD</td>\n",
       "      <td>1628810956</td>\n",
       "    </tr>\n",
       "    <tr>\n",
       "      <th>555</th>\n",
       "      <td>bria</td>\n",
       "      <td>6.5423</td>\n",
       "      <td>21.9863</td>\n",
       "      <td>68.20</td>\n",
       "      <td>97</td>\n",
       "      <td>93</td>\n",
       "      <td>2.64</td>\n",
       "      <td>CF</td>\n",
       "      <td>1628810956</td>\n",
       "    </tr>\n",
       "  </tbody>\n",
       "</table>\n",
       "<p>556 rows × 9 columns</p>\n",
       "</div>"
      ],
      "text/plain": [
       "    City Name      Lat       Lng  Max Temp  Humidity  Clouds   Wind Country  \\\n",
       "0    freeport  40.6576  -73.5832     93.22        70       1   1.01      US   \n",
       "1       kumla  59.1277   15.1434     58.33        88      20   5.75      SE   \n",
       "2    cururupu  -1.8283  -44.8683     76.14        95     100   5.32      BR   \n",
       "3       vardo  70.3705   31.1107     51.39        94     100   7.87      NO   \n",
       "4     mataura -46.1927  168.8643     50.49        89      17   2.98      NZ   \n",
       "..        ...      ...       ...       ...       ...     ...    ...     ...   \n",
       "551   boyuibe -20.4167  -63.2833     64.31        41      38   4.23      BO   \n",
       "552       hit  33.6416   42.8251     94.55        21       0  10.69      IQ   \n",
       "553  bilibino  68.0546  166.4372     64.06        44     100   4.56      RU   \n",
       "554      buta   2.7858   24.7300     69.60        98      97   2.04      CD   \n",
       "555      bria   6.5423   21.9863     68.20        97      93   2.64      CF   \n",
       "\n",
       "           Date  \n",
       "0    1628810692  \n",
       "1    1628810700  \n",
       "2    1628810701  \n",
       "3    1628810701  \n",
       "4    1628810701  \n",
       "..          ...  \n",
       "551  1628810954  \n",
       "552  1628810955  \n",
       "553  1628810955  \n",
       "554  1628810956  \n",
       "555  1628810956  \n",
       "\n",
       "[556 rows x 9 columns]"
      ]
     },
     "execution_count": 5,
     "metadata": {},
     "output_type": "execute_result"
    }
   ],
   "source": [
    "city_data_df = pd.DataFrame(city_data) \n",
    "city_data_df.to_csv('city_data_df.csv', index=False, header=True)\n",
    "city_data_df\n",
    "              "
   ]
  },
  {
   "cell_type": "code",
   "execution_count": 6,
   "metadata": {},
   "outputs": [
    {
     "data": {
      "text/html": [
       "<div>\n",
       "<style scoped>\n",
       "    .dataframe tbody tr th:only-of-type {\n",
       "        vertical-align: middle;\n",
       "    }\n",
       "\n",
       "    .dataframe tbody tr th {\n",
       "        vertical-align: top;\n",
       "    }\n",
       "\n",
       "    .dataframe thead th {\n",
       "        text-align: right;\n",
       "    }\n",
       "</style>\n",
       "<table border=\"1\" class=\"dataframe\">\n",
       "  <thead>\n",
       "    <tr style=\"text-align: right;\">\n",
       "      <th></th>\n",
       "      <th>Lat</th>\n",
       "      <th>Lng</th>\n",
       "      <th>Max Temp</th>\n",
       "      <th>Humidity</th>\n",
       "      <th>Clouds</th>\n",
       "      <th>Wind</th>\n",
       "      <th>Date</th>\n",
       "    </tr>\n",
       "  </thead>\n",
       "  <tbody>\n",
       "    <tr>\n",
       "      <th>count</th>\n",
       "      <td>556.000000</td>\n",
       "      <td>556.000000</td>\n",
       "      <td>556.000000</td>\n",
       "      <td>556.000000</td>\n",
       "      <td>556.000000</td>\n",
       "      <td>556.000000</td>\n",
       "      <td>5.560000e+02</td>\n",
       "    </tr>\n",
       "    <tr>\n",
       "      <th>mean</th>\n",
       "      <td>20.522352</td>\n",
       "      <td>18.426206</td>\n",
       "      <td>68.978705</td>\n",
       "      <td>71.501799</td>\n",
       "      <td>51.302158</td>\n",
       "      <td>7.628903</td>\n",
       "      <td>1.628811e+09</td>\n",
       "    </tr>\n",
       "    <tr>\n",
       "      <th>std</th>\n",
       "      <td>33.518811</td>\n",
       "      <td>90.603021</td>\n",
       "      <td>14.238530</td>\n",
       "      <td>20.748472</td>\n",
       "      <td>39.453867</td>\n",
       "      <td>5.406140</td>\n",
       "      <td>8.855832e+01</td>\n",
       "    </tr>\n",
       "    <tr>\n",
       "      <th>min</th>\n",
       "      <td>-54.800000</td>\n",
       "      <td>-175.200000</td>\n",
       "      <td>31.680000</td>\n",
       "      <td>10.000000</td>\n",
       "      <td>0.000000</td>\n",
       "      <td>0.000000</td>\n",
       "      <td>1.628810e+09</td>\n",
       "    </tr>\n",
       "    <tr>\n",
       "      <th>25%</th>\n",
       "      <td>-6.683575</td>\n",
       "      <td>-61.040150</td>\n",
       "      <td>57.907500</td>\n",
       "      <td>60.750000</td>\n",
       "      <td>8.000000</td>\n",
       "      <td>3.462500</td>\n",
       "      <td>1.628811e+09</td>\n",
       "    </tr>\n",
       "    <tr>\n",
       "      <th>50%</th>\n",
       "      <td>24.727300</td>\n",
       "      <td>24.244900</td>\n",
       "      <td>69.730000</td>\n",
       "      <td>77.000000</td>\n",
       "      <td>52.500000</td>\n",
       "      <td>6.630000</td>\n",
       "      <td>1.628811e+09</td>\n",
       "    </tr>\n",
       "    <tr>\n",
       "      <th>75%</th>\n",
       "      <td>47.954975</td>\n",
       "      <td>95.321600</td>\n",
       "      <td>79.622500</td>\n",
       "      <td>87.000000</td>\n",
       "      <td>92.250000</td>\n",
       "      <td>10.695000</td>\n",
       "      <td>1.628811e+09</td>\n",
       "    </tr>\n",
       "    <tr>\n",
       "      <th>max</th>\n",
       "      <td>78.218600</td>\n",
       "      <td>179.316700</td>\n",
       "      <td>107.170000</td>\n",
       "      <td>100.000000</td>\n",
       "      <td>100.000000</td>\n",
       "      <td>42.570000</td>\n",
       "      <td>1.628811e+09</td>\n",
       "    </tr>\n",
       "  </tbody>\n",
       "</table>\n",
       "</div>"
      ],
      "text/plain": [
       "              Lat         Lng    Max Temp    Humidity      Clouds        Wind  \\\n",
       "count  556.000000  556.000000  556.000000  556.000000  556.000000  556.000000   \n",
       "mean    20.522352   18.426206   68.978705   71.501799   51.302158    7.628903   \n",
       "std     33.518811   90.603021   14.238530   20.748472   39.453867    5.406140   \n",
       "min    -54.800000 -175.200000   31.680000   10.000000    0.000000    0.000000   \n",
       "25%     -6.683575  -61.040150   57.907500   60.750000    8.000000    3.462500   \n",
       "50%     24.727300   24.244900   69.730000   77.000000   52.500000    6.630000   \n",
       "75%     47.954975   95.321600   79.622500   87.000000   92.250000   10.695000   \n",
       "max     78.218600  179.316700  107.170000  100.000000  100.000000   42.570000   \n",
       "\n",
       "               Date  \n",
       "count  5.560000e+02  \n",
       "mean   1.628811e+09  \n",
       "std    8.855832e+01  \n",
       "min    1.628810e+09  \n",
       "25%    1.628811e+09  \n",
       "50%    1.628811e+09  \n",
       "75%    1.628811e+09  \n",
       "max    1.628811e+09  "
      ]
     },
     "execution_count": 6,
     "metadata": {},
     "output_type": "execute_result"
    }
   ],
   "source": [
    "city_data_df.describe()"
   ]
  },
  {
   "cell_type": "markdown",
   "metadata": {},
   "source": [
    "## Inspect the data and remove the cities where the humidity > 100%.\n",
    "----\n",
    "Skip this step if there are no cities that have humidity > 100%. "
   ]
  },
  {
   "cell_type": "code",
   "execution_count": null,
   "metadata": {},
   "outputs": [],
   "source": []
  },
  {
   "cell_type": "code",
   "execution_count": 7,
   "metadata": {},
   "outputs": [],
   "source": [
    "#  Get the indices of cities that have humidity over 100%.\n"
   ]
  },
  {
   "cell_type": "code",
   "execution_count": 8,
   "metadata": {},
   "outputs": [],
   "source": [
    "# Make a new DataFrame equal to the city data to drop all humidity outliers by index.\n",
    "# Passing \"inplace=False\" will make a copy of the city_data DataFrame, which we call \"clean_city_data\".\n"
   ]
  },
  {
   "cell_type": "code",
   "execution_count": null,
   "metadata": {},
   "outputs": [],
   "source": [
    "\n"
   ]
  },
  {
   "cell_type": "markdown",
   "metadata": {},
   "source": [
    "## Plotting the Data\n",
    "* Use proper labeling of the plots using plot titles (including date of analysis) and axes labels.\n",
    "* Save the plotted figures as .pngs."
   ]
  },
  {
   "cell_type": "markdown",
   "metadata": {},
   "source": [
    "## Latitude vs. Temperature Plot"
   ]
  },
  {
   "cell_type": "code",
   "execution_count": null,
   "metadata": {
    "scrolled": true
   },
   "outputs": [],
   "source": []
  },
  {
   "cell_type": "code",
   "execution_count": 9,
   "metadata": {
    "scrolled": true
   },
   "outputs": [
    {
     "data": {
      "image/png": "[encoded data removed]",
      "text/plain": [
       "<Figure size 432x288 with 1 Axes>"
      ]
     },
     "metadata": {
      "needs_background": "light"
     },
     "output_type": "display_data"
    }
   ],
   "source": [
    "plt.scatter(city_data_df['Lat'], city_data_df['Max Temp'])\n",
    "plt.title('Latitude vs Max Temp on 08/04/21')\n",
    "plt.show()"
   ]
  },
  {
   "cell_type": "markdown",
   "metadata": {},
   "source": [
    "## Latitude vs. Humidity Plot"
   ]
  },
  {
   "cell_type": "code",
   "execution_count": 10,
   "metadata": {},
   "outputs": [
    {
     "data": {
      "image/png": "[encoded data removed]",
      "text/plain": [
       "<Figure size 432x288 with 1 Axes>"
      ]
     },
     "metadata": {
      "needs_background": "light"
     },
     "output_type": "display_data"
    }
   ],
   "source": [
    "plt.scatter(city_data_df['Lat'], city_data_df['Humidity'])\n",
    "plt.title('Latitude vs Humidity on 08/04/21')\n",
    "plt.show()"
   ]
  },
  {
   "cell_type": "markdown",
   "metadata": {},
   "source": [
    "## Latitude vs. Cloudiness Plot"
   ]
  },
  {
   "cell_type": "code",
   "execution_count": 11,
   "metadata": {},
   "outputs": [
    {
     "data": {
      "image/png": "[encoded data removed]",
      "text/plain": [
       "<Figure size 432x288 with 1 Axes>"
      ]
     },
     "metadata": {
      "needs_background": "light"
     },
     "output_type": "display_data"
    }
   ],
   "source": [
    "plt.scatter(city_data_df['Lat'], city_data_df['Clouds'])\n",
    "plt.title('Latitude vs Cloudiness on 08/04/21')\n",
    "plt.show()"
   ]
  },
  {
   "cell_type": "markdown",
   "metadata": {},
   "source": [
    "## Latitude vs. Wind Speed Plot"
   ]
  },
  {
   "cell_type": "code",
   "execution_count": 12,
   "metadata": {},
   "outputs": [
    {
     "data": {
      "image/png": "[encoded data removed]",
      "text/plain": [
       "<Figure size 432x288 with 1 Axes>"
      ]
     },
     "metadata": {
      "needs_background": "light"
     },
     "output_type": "display_data"
    }
   ],
   "source": [
    "plt.scatter(city_data_df['Lat'], city_data_df['Wind'])\n",
    "plt.title('Latitude vs Wind Speed on 08/04/21')\n",
    "plt.show()"
   ]
  },
  {
   "cell_type": "markdown",
   "metadata": {},
   "source": [
    "## Linear Regression"
   ]
  },
  {
   "cell_type": "code",
   "execution_count": 13,
   "metadata": {},
   "outputs": [],
   "source": [
    "north = city_data_df['Lat']>0\n",
    "south = city_data_df['Lat']<0\n",
    "north_hemi = city_data_df.loc[north]\n",
    "south_hemi = city_data_df.loc[south]"
   ]
  },
  {
   "cell_type": "code",
   "execution_count": null,
   "metadata": {},
   "outputs": [],
   "source": []
  },
  {
   "cell_type": "markdown",
   "metadata": {},
   "source": [
    "####  Northern Hemisphere - Max Temp vs. Latitude Linear Regression"
   ]
  },
  {
   "cell_type": "code",
   "execution_count": 16,
   "metadata": {},
   "outputs": [
    {
     "data": {
      "image/png": "[encoded data removed]",
      "text/plain": [
       "<Figure size 432x288 with 1 Axes>"
      ]
     },
     "metadata": {
      "needs_background": "light"
     },
     "output_type": "display_data"
    }
   ],
   "source": [
    "x_values = north_hemi['Max Temp']\n",
    "y_values = north_hemi['Lat']\n",
    "(slope, intercept, rvalue, pvalue, stderr) = linregress(x_values, y_values)\n",
    "regress_values = x_values * slope + intercept\n",
    "line_eq = \"y = \" + str(round(slope,2)) + \"x + \" + str(round(intercept,2))\n",
    "plt.scatter(x_values,y_values)\n",
    "plt.plot(x_values,regress_values,\"r-\")\n",
    "plt.annotate(line_eq,(40,10),fontsize=10,color=\"red\")\n",
    "plt.title('Max Temp vs Latitude in Northern Hemisphere')\n",
    "plt.xlabel('Max Temp')\n",
    "plt.ylabel('Latitude')\n",
    "plt.savefig('Max Temp vs Latitude in Northern Hemisphere 080621')\n",
    "plt.show()"
   ]
  },
  {
   "cell_type": "markdown",
   "metadata": {},
   "source": [
    "####  Southern Hemisphere - Max Temp vs. Latitude Linear Regression"
   ]
  },
  {
   "cell_type": "code",
   "execution_count": 17,
   "metadata": {},
   "outputs": [
    {
     "data": {
      "image/png": "[encoded data removed]",
      "text/plain": [
       "<Figure size 432x288 with 1 Axes>"
      ]
     },
     "metadata": {
      "needs_background": "light"
     },
     "output_type": "display_data"
    }
   ],
   "source": [
    "x_values = south_hemi['Max Temp']\n",
    "y_values = south_hemi['Lat']\n",
    "(slope, intercept, rvalue, pvalue, stderr) = linregress(x_values, y_values)\n",
    "regress_values = x_values * slope + intercept\n",
    "line_eq = \"y = \" + str(round(slope,2)) + \"x + \" + str(round(intercept,2))\n",
    "plt.scatter(x_values,y_values)\n",
    "plt.plot(x_values,regress_values,\"r-\")\n",
    "plt.annotate(line_eq,(70,-50),fontsize=10,color=\"red\")\n",
    "plt.title('Max Temp vs Latitude in Southern Hemisphere')\n",
    "plt.xlabel('Max Temp')\n",
    "plt.ylabel('Latitude')\n",
    "plt.savefig('Max Temp vs Latitude in Southern Hemisphere 080621')\n",
    "plt.show()"
   ]
  },
  {
   "cell_type": "markdown",
   "metadata": {},
   "source": [
    "####  Northern Hemisphere - Humidity (%) vs. Latitude Linear Regression"
   ]
  },
  {
   "cell_type": "code",
   "execution_count": 18,
   "metadata": {},
   "outputs": [
    {
     "data": {
      "image/png": "[encoded data removed]",
      "text/plain": [
       "<Figure size 432x288 with 1 Axes>"
      ]
     },
     "metadata": {
      "needs_background": "light"
     },
     "output_type": "display_data"
    }
   ],
   "source": [
    "x_values = north_hemi['Humidity']\n",
    "y_values = north_hemi['Lat']\n",
    "(slope, intercept, rvalue, pvalue, stderr) = linregress(x_values, y_values)\n",
    "regress_values = x_values * slope + intercept\n",
    "line_eq = \"y = \" + str(round(slope,2)) + \"x + \" + str(round(intercept,2))\n",
    "plt.scatter(x_values,y_values)\n",
    "plt.plot(x_values,regress_values,\"r-\")\n",
    "plt.annotate(line_eq,(20,0),fontsize=10,color=\"red\")\n",
    "plt.title('Humidity vs Latitude in Northern Hemisphere')\n",
    "plt.xlabel('Humidity')\n",
    "plt.ylabel('Latitude')\n",
    "plt.savefig('Humidity vs Latitude in Northern Hemisphere 080621')\n",
    "plt.show()"
   ]
  },
  {
   "cell_type": "markdown",
   "metadata": {},
   "source": [
    "####  Southern Hemisphere - Humidity (%) vs. Latitude Linear Regression"
   ]
  },
  {
   "cell_type": "code",
   "execution_count": 19,
   "metadata": {},
   "outputs": [
    {
     "data": {
      "image/png": "[encoded data removed]",
      "text/plain": [
       "<Figure size 432x288 with 1 Axes>"
      ]
     },
     "metadata": {
      "needs_background": "light"
     },
     "output_type": "display_data"
    }
   ],
   "source": [
    "x_values = south_hemi['Humidity']\n",
    "y_values = south_hemi['Lat']\n",
    "(slope, intercept, rvalue, pvalue, stderr) = linregress(x_values, y_values)\n",
    "regress_values = x_values * slope + intercept\n",
    "line_eq = \"y = \" + str(round(slope,2)) + \"x + \" + str(round(intercept,2))\n",
    "plt.scatter(x_values,y_values)\n",
    "plt.plot(x_values,regress_values,\"r-\")\n",
    "plt.annotate(line_eq,(75,-50),fontsize=10,color=\"red\")\n",
    "plt.title('Humidity vs Latitude in Southern Hemisphere')\n",
    "plt.xlabel('Humidity')\n",
    "plt.ylabel('Latitude')\n",
    "plt.savefig('Humidity vs Latitude in Southern Hemisphere 080621')\n",
    "plt.show()"
   ]
  },
  {
   "cell_type": "markdown",
   "metadata": {},
   "source": [
    "####  Northern Hemisphere - Cloudiness (%) vs. Latitude Linear Regression"
   ]
  },
  {
   "cell_type": "code",
   "execution_count": 20,
   "metadata": {},
   "outputs": [
    {
     "data": {
      "image/png": "[encoded data removed]",
      "text/plain": [
       "<Figure size 432x288 with 1 Axes>"
      ]
     },
     "metadata": {
      "needs_background": "light"
     },
     "output_type": "display_data"
    }
   ],
   "source": [
    "x_values = north_hemi['Clouds']\n",
    "y_values = north_hemi['Lat']\n",
    "(slope, intercept, rvalue, pvalue, stderr) = linregress(x_values, y_values)\n",
    "regress_values = x_values * slope + intercept\n",
    "line_eq = \"y = \" + str(round(slope,2)) + \"x + \" + str(round(intercept,2))\n",
    "plt.scatter(x_values,y_values)\n",
    "plt.plot(x_values,regress_values,\"r-\")\n",
    "plt.annotate(line_eq,(6,10),fontsize=15,color=\"red\")\n",
    "plt.title('Cloudiness vs Latitude in Northern Hemisphere')\n",
    "plt.xlabel('Cloudiness')\n",
    "plt.ylabel('Latitude')\n",
    "plt.savefig('Cloudiness vs Latitude in Northern Hemisphere 080621')\n",
    "plt.show()"
   ]
  },
  {
   "cell_type": "markdown",
   "metadata": {},
   "source": [
    "####  Southern Hemisphere - Cloudiness (%) vs. Latitude Linear Regression"
   ]
  },
  {
   "cell_type": "code",
   "execution_count": 21,
   "metadata": {},
   "outputs": [
    {
     "data": {
      "image/png": "[encoded data removed]",
      "text/plain": [
       "<Figure size 432x288 with 1 Axes>"
      ]
     },
     "metadata": {
      "needs_background": "light"
     },
     "output_type": "display_data"
    }
   ],
   "source": [
    "x_values = south_hemi['Clouds']\n",
    "y_values = south_hemi['Lat']\n",
    "(slope, intercept, rvalue, pvalue, stderr) = linregress(x_values, y_values)\n",
    "regress_values = x_values * slope + intercept\n",
    "line_eq = \"y = \" + str(round(slope,2)) + \"x + \" + str(round(intercept,2))\n",
    "plt.scatter(x_values,y_values)\n",
    "plt.plot(x_values,regress_values,\"r-\")\n",
    "plt.annotate(line_eq,(6,10),fontsize=15,color=\"red\")\n",
    "plt.title('Cloudiness vs Latitude in Southern Hemisphere')\n",
    "plt.xlabel('Cloudiness')\n",
    "plt.ylabel('Latitude')\n",
    "plt.savefig('Cloudiness vs Latitude in Southern Hemisphere 080621')\n",
    "plt.show()"
   ]
  },
  {
   "cell_type": "markdown",
   "metadata": {},
   "source": [
    "####  Northern Hemisphere - Wind Speed (mph) vs. Latitude Linear Regression"
   ]
  },
  {
   "cell_type": "code",
   "execution_count": 22,
   "metadata": {},
   "outputs": [
    {
     "data": {
      "image/png": "[encoded data removed]",
      "text/plain": [
       "<Figure size 432x288 with 1 Axes>"
      ]
     },
     "metadata": {
      "needs_background": "light"
     },
     "output_type": "display_data"
    }
   ],
   "source": [
    "x_values = north_hemi['Wind']\n",
    "y_values = north_hemi['Lat']\n",
    "(slope, intercept, rvalue, pvalue, stderr) = linregress(x_values, y_values)\n",
    "regress_values = x_values * slope + intercept\n",
    "line_eq = \"y = \" + str(round(slope,2)) + \"x + \" + str(round(intercept,2))\n",
    "plt.scatter(x_values,y_values)\n",
    "plt.plot(x_values,regress_values,\"r-\")\n",
    "plt.annotate(line_eq,(25,0),fontsize=10,color=\"red\")\n",
    "plt.title('Wind Speed vs Latitude in Southern Hemisphere')\n",
    "plt.xlabel('Wind Speed')\n",
    "plt.ylabel('Latitude')\n",
    "plt.savefig('Wind Speed vs Latitude in Northern Hemisphere 080621')\n",
    "plt.show()"
   ]
  },
  {
   "cell_type": "markdown",
   "metadata": {},
   "source": [
    "####  Southern Hemisphere - Wind Speed (mph) vs. Latitude Linear Regression"
   ]
  },
  {
   "cell_type": "code",
   "execution_count": 23,
   "metadata": {},
   "outputs": [
    {
     "data": {
      "image/png": "[encoded data removed]",
      "text/plain": [
       "<Figure size 432x288 with 1 Axes>"
      ]
     },
     "metadata": {
      "needs_background": "light"
     },
     "output_type": "display_data"
    }
   ],
   "source": [
    "x_values = south_hemi['Wind']\n",
    "y_values = south_hemi['Lat']\n",
    "(slope, intercept, rvalue, pvalue, stderr) = linregress(x_values, y_values)\n",
    "regress_values = x_values * slope + intercept\n",
    "line_eq = \"y = \" + str(round(slope,2)) + \"x + \" + str(round(intercept,2))\n",
    "plt.scatter(x_values,y_values)\n",
    "plt.plot(x_values,regress_values,\"r-\")\n",
    "plt.annotate(line_eq,(12.5,-55),fontsize=10,color=\"red\")\n",
    "plt.title('Wind Speed vs Latitude in Southern Hemisphere')\n",
    "plt.xlabel('Wind Speed')\n",
    "plt.ylabel('Latitude')\n",
    "plt.savefig('Wind Speed vs Latitude in Southern Hemisphere 080621')\n",
    "plt.show()"
   ]
  },
  {
   "cell_type": "code",
   "execution_count": null,
   "metadata": {},
   "outputs": [],
   "source": []
  },
  {
   "cell_type": "code",
   "execution_count": null,
   "metadata": {},
   "outputs": [],
   "source": []
  }
 ],
 "metadata": {
  "anaconda-cloud": {},
  "kernel_info": {
   "name": "python3"
  },
  "kernelspec": {
   "display_name": "Python 3",
   "language": "python",
   "name": "python3"
  },
  "language_info": {
   "codemirror_mode": {
    "name": "ipython",
    "version": 3
   },
   "file_extension": ".py",
   "mimetype": "text/x-python",
   "name": "python",
   "nbconvert_exporter": "python",
   "pygments_lexer": "ipython3",
   "version": "3.8.8"
  },
  "latex_envs": {
   "LaTeX_envs_menu_present": true,
   "autoclose": false,
   "autocomplete": true,
   "bibliofile": "biblio.bib",
   "cite_by": "apalike",
   "current_citInitial": 1,
   "eqLabelWithNumbers": true,
   "eqNumInitial": 1,
   "hotkeys": {
    "equation": "Ctrl-E",
    "itemize": "Ctrl-I"
   },
   "labels_anchors": false,
   "latex_user_defs": false,
   "report_style_numbering": false,
   "user_envs_cfg": false
  },
  "nteract": {
   "version": "0.12.3"
  }
 },
 "nbformat": 4,
 "nbformat_minor": 2
}
